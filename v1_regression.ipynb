{
 "cells": [
  {
   "cell_type": "code",
   "execution_count": 1,
   "metadata": {},
   "outputs": [
    {
     "data": {
      "text/plain": [
       "array([[ -5.        ,  -8.20141482],\n",
       "       [ -4.98998999,  -8.73276922],\n",
       "       [ -4.97997998, -13.35357674],\n",
       "       ...,\n",
       "       [  4.97997998,  15.77015417],\n",
       "       [  4.98998999,  15.62292135],\n",
       "       [  5.        ,  16.37365279]])"
      ]
     },
     "execution_count": 1,
     "metadata": {},
     "output_type": "execute_result"
    }
   ],
   "source": [
    "import torch\n",
    "import torch.nn as nn\n",
    "import torch.optim as optim\n",
    "import torch.nn.functional as F\n",
    "import numpy as np\n",
    "import pandas as pd\n",
    "\n",
    "csv_data = pd.read_csv('Regression.csv')\n",
    "\n",
    "npArray = csv_data.to_numpy()\n",
    "\n",
    "npArray"
   ]
  },
  {
   "cell_type": "code",
   "execution_count": 2,
   "metadata": {},
   "outputs": [
    {
     "data": {
      "text/plain": [
       "tensor([[ -5.0000,  -8.2014],\n",
       "        [ -4.9900,  -8.7328],\n",
       "        [ -4.9800, -13.3536],\n",
       "        ...,\n",
       "        [  4.9800,  15.7702],\n",
       "        [  4.9900,  15.6229],\n",
       "        [  5.0000,  16.3737]], dtype=torch.float64)"
      ]
     },
     "execution_count": 2,
     "metadata": {},
     "output_type": "execute_result"
    }
   ],
   "source": [
    "dataset = torch.from_numpy(npArray)\n",
    "\n",
    "dataset"
   ]
  },
  {
   "cell_type": "code",
   "execution_count": 3,
   "metadata": {},
   "outputs": [],
   "source": [
    "dataset_x = dataset[:,0:1]\n",
    "dataset_y = dataset[:,1:]"
   ]
  },
  {
   "cell_type": "code",
   "execution_count": 4,
   "metadata": {},
   "outputs": [
    {
     "data": {
      "text/plain": [
       "torch.Size([1000, 1])"
      ]
     },
     "execution_count": 4,
     "metadata": {},
     "output_type": "execute_result"
    }
   ],
   "source": [
    "dataset_x.shape"
   ]
  },
  {
   "cell_type": "code",
   "execution_count": 5,
   "metadata": {},
   "outputs": [
    {
     "data": {
      "text/plain": [
       "torch.Size([1000, 1])"
      ]
     },
     "execution_count": 5,
     "metadata": {},
     "output_type": "execute_result"
    }
   ],
   "source": [
    "dataset_y.shape"
   ]
  },
  {
   "cell_type": "code",
   "execution_count": 6,
   "metadata": {},
   "outputs": [],
   "source": [
    "W = torch.rand(1,requires_grad=True)\n",
    "b = torch.rand(1,requires_grad=True)"
   ]
  },
  {
   "cell_type": "code",
   "execution_count": 7,
   "metadata": {},
   "outputs": [],
   "source": [
    "optimizer = optim.SGD([W,b],lr=0.01)"
   ]
  },
  {
   "cell_type": "code",
   "execution_count": 8,
   "metadata": {},
   "outputs": [
    {
     "name": "stdout",
     "output_type": "stream",
     "text": [
      "Epoch    0/2000 W: 1.251496, b: 0.483443 Cost: 32.625312\n",
      "Epoch  100/2000 W: 2.680616, b: 2.396939 Cost: 3.069680\n",
      "Epoch  200/2000 W: 2.680616, b: 2.650706 Cost: 2.982123\n",
      "Epoch  300/2000 W: 2.680616, b: 2.684359 Cost: 2.980583\n",
      "Epoch  400/2000 W: 2.680616, b: 2.688823 Cost: 2.980556\n",
      "Epoch  500/2000 W: 2.680616, b: 2.689415 Cost: 2.980555\n",
      "Epoch  600/2000 W: 2.680616, b: 2.689492 Cost: 2.980555\n",
      "Epoch  700/2000 W: 2.680616, b: 2.689500 Cost: 2.980555\n",
      "Epoch  800/2000 W: 2.680616, b: 2.689500 Cost: 2.980555\n",
      "Epoch  900/2000 W: 2.680616, b: 2.689500 Cost: 2.980555\n",
      "Epoch 1000/2000 W: 2.680616, b: 2.689500 Cost: 2.980555\n",
      "Epoch 1100/2000 W: 2.680616, b: 2.689500 Cost: 2.980555\n",
      "Epoch 1200/2000 W: 2.680616, b: 2.689500 Cost: 2.980555\n",
      "Epoch 1300/2000 W: 2.680616, b: 2.689500 Cost: 2.980555\n",
      "Epoch 1400/2000 W: 2.680616, b: 2.689500 Cost: 2.980555\n",
      "Epoch 1500/2000 W: 2.680616, b: 2.689500 Cost: 2.980555\n",
      "Epoch 1600/2000 W: 2.680616, b: 2.689500 Cost: 2.980555\n",
      "Epoch 1700/2000 W: 2.680616, b: 2.689500 Cost: 2.980555\n",
      "Epoch 1800/2000 W: 2.680616, b: 2.689500 Cost: 2.980555\n",
      "Epoch 1900/2000 W: 2.680616, b: 2.689500 Cost: 2.980555\n"
     ]
    }
   ],
   "source": [
    "epochs = 2000\n",
    "\n",
    "W_list = []\n",
    "b_list = []\n",
    "\n",
    "for epoch in range(epochs):\n",
    "    \n",
    "    epoch_Y = dataset_x * W + b\n",
    "\n",
    "    #loss function\n",
    "    cost = torch.mean((epoch_Y - dataset_y) ** 2)\n",
    "    \n",
    "    optimizer.zero_grad()\n",
    "    cost.backward()\n",
    "    optimizer.step()\n",
    "    \n",
    "    if epoch % 100 == 0:\n",
    "        print('Epoch {:4d}/{} W: {:.6f}, b: {:.6f} Cost: {:.6f}'.format(\n",
    "            epoch, epochs, W.item(), b.item(), cost.item()\n",
    "        ))\n",
    "        W_list.append(W.item())\n",
    "        b_list.append(b.item())"
   ]
  },
  {
   "cell_type": "code",
   "execution_count": 9,
   "metadata": {},
   "outputs": [],
   "source": [
    "import sklearn \n",
    "\n",
    "from sklearn.linear_model import LinearRegression"
   ]
  },
  {
   "cell_type": "code",
   "execution_count": 10,
   "metadata": {},
   "outputs": [],
   "source": [
    "ols = LinearRegression()\n",
    "\n",
    "ols.fit(dataset_x,dataset_y)\n",
    "\n",
    "W = ols.coef_\n",
    "\n",
    "b = ols.intercept_"
   ]
  },
  {
   "cell_type": "code",
   "execution_count": 11,
   "metadata": {},
   "outputs": [
    {
     "data": {
      "text/plain": [
       "array([[2.68061705]])"
      ]
     },
     "execution_count": 11,
     "metadata": {},
     "output_type": "execute_result"
    }
   ],
   "source": [
    "W"
   ]
  },
  {
   "cell_type": "code",
   "execution_count": 12,
   "metadata": {},
   "outputs": [
    {
     "data": {
      "text/plain": [
       "array([2.68950552])"
      ]
     },
     "execution_count": 12,
     "metadata": {},
     "output_type": "execute_result"
    }
   ],
   "source": [
    "b"
   ]
  },
  {
   "cell_type": "code",
   "execution_count": 18,
   "metadata": {},
   "outputs": [
    {
     "ename": "TypeError",
     "evalue": "list.append() takes exactly one argument (2 given)",
     "output_type": "error",
     "traceback": [
      "\u001b[0;31m---------------------------------------------------------------------------\u001b[0m",
      "\u001b[0;31mTypeError\u001b[0m                                 Traceback (most recent call last)",
      "Cell \u001b[0;32mIn[18], line 10\u001b[0m\n\u001b[1;32m      7\u001b[0m y_list \u001b[38;5;241m=\u001b[39m []\n\u001b[1;32m      9\u001b[0m \u001b[38;5;28;01mfor\u001b[39;00m W_i,b_i \u001b[38;5;129;01min\u001b[39;00m \u001b[38;5;28mzip\u001b[39m(W_list,b_list):\n\u001b[0;32m---> 10\u001b[0m     \u001b[43my_list\u001b[49m\u001b[38;5;241;43m.\u001b[39;49m\u001b[43mappend\u001b[49m\u001b[43m(\u001b[49m\u001b[43mnp_x\u001b[49m\u001b[43m \u001b[49m\u001b[38;5;241;43m*\u001b[39;49m\u001b[43m \u001b[49m\u001b[43mW_i\u001b[49m\u001b[43m \u001b[49m\u001b[38;5;241;43m+\u001b[39;49m\u001b[43m \u001b[49m\u001b[43mb_i\u001b[49m\u001b[43m,\u001b[49m\u001b[38;5;124;43m'\u001b[39;49m\u001b[38;5;124;43mr\u001b[39;49m\u001b[38;5;124;43m'\u001b[39;49m\u001b[43m)\u001b[49m\n\u001b[1;32m     12\u001b[0m y_list\u001b[38;5;241m.\u001b[39mappend(np_x \u001b[38;5;241m*\u001b[39m W \u001b[38;5;241m+\u001b[39m b)\n\u001b[1;32m     14\u001b[0m plt\u001b[38;5;241m.\u001b[39mscatter(np_x,np_y,s\u001b[38;5;241m=\u001b[39m\u001b[38;5;241m10\u001b[39m)\n",
      "\u001b[0;31mTypeError\u001b[0m: list.append() takes exactly one argument (2 given)"
     ]
    }
   ],
   "source": [
    "from matplotlib import pyplot as plt\n",
    "import numpy as np\n",
    "\n",
    "np_x = np.array(dataset_x)\n",
    "np_y = np.array(dataset_y)\n",
    "\n",
    "y_list = []\n",
    "\n",
    "for W_i,b_i in zip(W_list,b_list):\n",
    "    y_list.append(np_x * W_i + b_i)\n",
    "\n",
    "y_list.append(np_x * W + b)\n",
    "\n",
    "plt.scatter(np_x,np_y,s=10)\n",
    "\n",
    "for y in y_list :\n",
    "    plt.plot(np_x,y,'r')\n",
    "\n",
    "plt.show()"
   ]
  }
 ],
 "metadata": {
  "kernelspec": {
   "display_name": "venv",
   "language": "python",
   "name": "python3"
  },
  "language_info": {
   "codemirror_mode": {
    "name": "ipython",
    "version": 3
   },
   "file_extension": ".py",
   "mimetype": "text/x-python",
   "name": "python",
   "nbconvert_exporter": "python",
   "pygments_lexer": "ipython3",
   "version": "3.11.5"
  }
 },
 "nbformat": 4,
 "nbformat_minor": 2
}
