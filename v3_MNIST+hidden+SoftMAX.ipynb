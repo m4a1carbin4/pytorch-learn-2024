{
 "cells": [
  {
   "cell_type": "code",
   "execution_count": 1,
   "metadata": {},
   "outputs": [],
   "source": [
    "import torch\n",
    "from torchvision import datasets, transforms\n",
    "from torcheval.metrics import BinaryAccuracy\n",
    "import numpy as np\n",
    "from PIL import Image\n",
    "\n",
    "data_train = datasets.MNIST(root=\"./dataset\",train=True,download=True,transform=transforms.ToTensor())\n",
    "data_test = datasets.MNIST(root=\"./dataset\",train=False,download=True,transform=transforms.ToTensor())"
   ]
  },
  {
   "cell_type": "code",
   "execution_count": 2,
   "metadata": {},
   "outputs": [
    {
     "data": {
      "image/png": "[encoded data removed]",
      "text/plain": [
       "<Figure size 640x480 with 1 Axes>"
      ]
     },
     "metadata": {},
     "output_type": "display_data"
    }
   ],
   "source": [
    "from matplotlib import pyplot as plt\n",
    "\n",
    "image, label = data_train[0]\n",
    "\n",
    "plt.imshow(image.squeeze().numpy(),cmap='gray')\n",
    "plt.show()"
   ]
  },
  {
   "cell_type": "code",
   "execution_count": 3,
   "metadata": {},
   "outputs": [],
   "source": [
    "from torch.utils.data import dataset, DataLoader\n",
    "\n",
    "train_dataloader = DataLoader(data_train,batch_size=512,shuffle=True)\n",
    "test_dataloader = DataLoader(data_test,batch_size=256,shuffle=True)"
   ]
  },
  {
   "cell_type": "code",
   "execution_count": 4,
   "metadata": {},
   "outputs": [],
   "source": [
    "import torch.nn as nn\n",
    "\n",
    "class HiddenSoftMaxNet(nn.Module):\n",
    "    \n",
    "    def __init__(self,hidden_layer:list=[]):\n",
    "        super(HiddenSoftMaxNet, self).__init__()\n",
    "        \n",
    "        self.layers=nn.ModuleList()\n",
    "        \n",
    "        if len(hidden_layer) == 0:\n",
    "            self.fc.append(nn.Linear(784,10))\n",
    "        else :\n",
    "            input_current = 784\n",
    "            \n",
    "            for num_class in hidden_layer :\n",
    "                self.layers.append(nn.Sequential(\n",
    "                    nn.Linear(input_current,num_class),\n",
    "                    nn.LeakyReLU()\n",
    "                ))\n",
    "                input_current = num_class\n",
    "                \n",
    "            self.layers.append(nn.Sequential(\n",
    "                nn.Linear(input_current,10),\n",
    "                nn.Softmax(1)\n",
    "            ))\n",
    "            \n",
    "        for module in self.modules():\n",
    "            if isinstance(module,nn.Linear):\n",
    "                nn.init.kaiming_uniform_(module.weight.data,nonlinearity='relu')\n",
    "        \n",
    "    def forward(self,input):\n",
    "        \n",
    "        for layer in self.layers:\n",
    "            \n",
    "            input = layer(input)\n",
    "            \n",
    "        output = input\n",
    "        \n",
    "        return output\n",
    "    \n",
    "net = HiddenSoftMaxNet([128,64,32]).cuda()"
   ]
  },
  {
   "cell_type": "code",
   "execution_count": 5,
   "metadata": {},
   "outputs": [],
   "source": [
    "import torch.optim as optim\n",
    "\n",
    "optimizer = optim.SGD(net.parameters(),lr=0.01)\n",
    "\n",
    "loss_fc = nn.CrossEntropyLoss()"
   ]
  },
  {
   "cell_type": "code",
   "execution_count": 6,
   "metadata": {},
   "outputs": [],
   "source": [
    "from torcheval.metrics import MulticlassAccuracy"
   ]
  },
  {
   "cell_type": "code",
   "execution_count": 7,
   "metadata": {},
   "outputs": [
    {
     "name": "stdout",
     "output_type": "stream",
     "text": [
      "torch.Size([18, 10])\n"
     ]
    }
   ],
   "source": [
    "x = torch.randn([18,784]).cuda()\n",
    "print(net(x).shape)"
   ]
  },
  {
   "cell_type": "code",
   "execution_count": 8,
   "metadata": {},
   "outputs": [
    {
     "name": "stderr",
     "output_type": "stream",
     "text": [
      "100%|██████████| 118/118 [00:06<00:00, 19.54it/s]\n",
      "100%|██████████| 40/40 [00:00<00:00, 42.25it/s]\n"
     ]
    },
    {
     "name": "stdout",
     "output_type": "stream",
     "text": [
      "Epoch    1/200 train_loss: 2.301000 acc: 0.189300\n"
     ]
    },
    {
     "name": "stderr",
     "output_type": "stream",
     "text": [
      "100%|██████████| 118/118 [00:05<00:00, 20.84it/s]\n",
      "100%|██████████| 40/40 [00:00<00:00, 43.65it/s]\n"
     ]
    },
    {
     "name": "stdout",
     "output_type": "stream",
     "text": [
      "Epoch    2/200 train_loss: 2.290203 acc: 0.196800\n"
     ]
    },
    {
     "name": "stderr",
     "output_type": "stream",
     "text": [
      "100%|██████████| 118/118 [00:05<00:00, 21.51it/s]\n",
      "100%|██████████| 40/40 [00:00<00:00, 40.44it/s]\n"
     ]
    },
    {
     "name": "stdout",
     "output_type": "stream",
     "text": [
      "Epoch    3/200 train_loss: 2.271384 acc: 0.201133\n"
     ]
    },
    {
     "name": "stderr",
     "output_type": "stream",
     "text": [
      "100%|██████████| 118/118 [00:05<00:00, 21.29it/s]\n",
      "100%|██████████| 40/40 [00:00<00:00, 44.56it/s]\n"
     ]
    },
    {
     "name": "stdout",
     "output_type": "stream",
     "text": [
      "Epoch    4/200 train_loss: 2.245191 acc: 0.210775\n"
     ]
    },
    {
     "name": "stderr",
     "output_type": "stream",
     "text": [
      "100%|██████████| 118/118 [00:05<00:00, 21.36it/s]\n",
      "100%|██████████| 40/40 [00:00<00:00, 43.79it/s]\n"
     ]
    },
    {
     "name": "stdout",
     "output_type": "stream",
     "text": [
      "Epoch    5/200 train_loss: 2.219081 acc: 0.225500\n"
     ]
    },
    {
     "name": "stderr",
     "output_type": "stream",
     "text": [
      "100%|██████████| 118/118 [00:05<00:00, 21.43it/s]\n",
      "100%|██████████| 40/40 [00:00<00:00, 43.06it/s]\n"
     ]
    },
    {
     "name": "stdout",
     "output_type": "stream",
     "text": [
      "Epoch    6/200 train_loss: 2.192679 acc: 0.242267\n"
     ]
    },
    {
     "name": "stderr",
     "output_type": "stream",
     "text": [
      "100%|██████████| 118/118 [00:05<00:00, 21.55it/s]\n",
      "100%|██████████| 40/40 [00:00<00:00, 44.47it/s]\n"
     ]
    },
    {
     "name": "stdout",
     "output_type": "stream",
     "text": [
      "Epoch    7/200 train_loss: 2.163885 acc: 0.262000\n"
     ]
    },
    {
     "name": "stderr",
     "output_type": "stream",
     "text": [
      "100%|██████████| 118/118 [00:05<00:00, 21.55it/s]\n",
      "100%|██████████| 40/40 [00:00<00:00, 44.56it/s]\n"
     ]
    },
    {
     "name": "stdout",
     "output_type": "stream",
     "text": [
      "Epoch    8/200 train_loss: 2.129057 acc: 0.284975\n"
     ]
    },
    {
     "name": "stderr",
     "output_type": "stream",
     "text": [
      "100%|██████████| 118/118 [00:05<00:00, 21.29it/s]\n",
      "100%|██████████| 40/40 [00:00<00:00, 43.73it/s]\n"
     ]
    },
    {
     "name": "stdout",
     "output_type": "stream",
     "text": [
      "Epoch    9/200 train_loss: 2.082518 acc: 0.312422\n"
     ]
    },
    {
     "name": "stderr",
     "output_type": "stream",
     "text": [
      "100%|██████████| 118/118 [00:05<00:00, 20.73it/s]\n",
      "100%|██████████| 40/40 [00:00<00:00, 43.48it/s]\n"
     ]
    },
    {
     "name": "stdout",
     "output_type": "stream",
     "text": [
      "Epoch   10/200 train_loss: 2.022209 acc: 0.337690\n"
     ]
    },
    {
     "name": "stderr",
     "output_type": "stream",
     "text": [
      "100%|██████████| 118/118 [00:05<00:00, 20.58it/s]\n",
      "100%|██████████| 40/40 [00:00<00:00, 42.75it/s]\n"
     ]
    },
    {
     "name": "stdout",
     "output_type": "stream",
     "text": [
      "Epoch   11/200 train_loss: 1.972441 acc: 0.362173\n"
     ]
    },
    {
     "name": "stderr",
     "output_type": "stream",
     "text": [
      "100%|██████████| 118/118 [00:05<00:00, 20.43it/s]\n",
      "100%|██████████| 40/40 [00:00<00:00, 43.15it/s]\n"
     ]
    },
    {
     "name": "stdout",
     "output_type": "stream",
     "text": [
      "Epoch   12/200 train_loss: 1.932238 acc: 0.384700\n"
     ]
    },
    {
     "name": "stderr",
     "output_type": "stream",
     "text": [
      "100%|██████████| 118/118 [00:05<00:00, 21.10it/s]\n",
      "100%|██████████| 40/40 [00:00<00:00, 44.22it/s]\n"
     ]
    },
    {
     "name": "stdout",
     "output_type": "stream",
     "text": [
      "Epoch   13/200 train_loss: 1.886539 acc: 0.410054\n"
     ]
    },
    {
     "name": "stderr",
     "output_type": "stream",
     "text": [
      "100%|██████████| 118/118 [00:05<00:00, 21.65it/s]\n",
      "100%|██████████| 40/40 [00:00<00:00, 43.84it/s]\n"
     ]
    },
    {
     "name": "stdout",
     "output_type": "stream",
     "text": [
      "Epoch   14/200 train_loss: 1.840237 acc: 0.432893\n"
     ]
    },
    {
     "name": "stderr",
     "output_type": "stream",
     "text": [
      "100%|██████████| 118/118 [00:05<00:00, 21.09it/s]\n",
      "100%|██████████| 40/40 [00:00<00:00, 44.67it/s]\n"
     ]
    },
    {
     "name": "stdout",
     "output_type": "stream",
     "text": [
      "Epoch   15/200 train_loss: 1.807066 acc: 0.454147\n"
     ]
    },
    {
     "name": "stderr",
     "output_type": "stream",
     "text": [
      "100%|██████████| 118/118 [00:05<00:00, 21.27it/s]\n",
      "100%|██████████| 40/40 [00:00<00:00, 43.60it/s]\n"
     ]
    },
    {
     "name": "stdout",
     "output_type": "stream",
     "text": [
      "Epoch   16/200 train_loss: 1.778225 acc: 0.474981\n"
     ]
    },
    {
     "name": "stderr",
     "output_type": "stream",
     "text": [
      "100%|██████████| 118/118 [00:05<00:00, 21.49it/s]\n",
      "100%|██████████| 40/40 [00:00<00:00, 43.85it/s]\n"
     ]
    },
    {
     "name": "stdout",
     "output_type": "stream",
     "text": [
      "Epoch   17/200 train_loss: 1.748717 acc: 0.495082\n"
     ]
    },
    {
     "name": "stderr",
     "output_type": "stream",
     "text": [
      "100%|██████████| 118/118 [00:05<00:00, 21.56it/s]\n",
      "100%|██████████| 40/40 [00:00<00:00, 43.37it/s]\n"
     ]
    },
    {
     "name": "stdout",
     "output_type": "stream",
     "text": [
      "Epoch   18/200 train_loss: 1.723144 acc: 0.513794\n"
     ]
    },
    {
     "name": "stderr",
     "output_type": "stream",
     "text": [
      "100%|██████████| 118/118 [00:05<00:00, 21.27it/s]\n",
      "100%|██████████| 40/40 [00:00<00:00, 44.58it/s]\n"
     ]
    },
    {
     "name": "stdout",
     "output_type": "stream",
     "text": [
      "Epoch   19/200 train_loss: 1.702197 acc: 0.531279\n"
     ]
    },
    {
     "name": "stderr",
     "output_type": "stream",
     "text": [
      "100%|██████████| 118/118 [00:05<00:00, 21.46it/s]\n",
      "100%|██████████| 40/40 [00:00<00:00, 43.89it/s]\n"
     ]
    },
    {
     "name": "stdout",
     "output_type": "stream",
     "text": [
      "Epoch   20/200 train_loss: 1.684680 acc: 0.547655\n"
     ]
    },
    {
     "name": "stderr",
     "output_type": "stream",
     "text": [
      "100%|██████████| 118/118 [00:05<00:00, 21.61it/s]\n",
      "100%|██████████| 40/40 [00:00<00:00, 43.51it/s]\n"
     ]
    },
    {
     "name": "stdout",
     "output_type": "stream",
     "text": [
      "Epoch   21/200 train_loss: 1.669954 acc: 0.562843\n"
     ]
    },
    {
     "name": "stderr",
     "output_type": "stream",
     "text": [
      "100%|██████████| 118/118 [00:05<00:00, 21.54it/s]\n",
      "100%|██████████| 40/40 [00:00<00:00, 43.06it/s]\n"
     ]
    },
    {
     "name": "stdout",
     "output_type": "stream",
     "text": [
      "Epoch   22/200 train_loss: 1.657462 acc: 0.577009\n"
     ]
    },
    {
     "name": "stderr",
     "output_type": "stream",
     "text": [
      "100%|██████████| 118/118 [00:05<00:00, 21.33it/s]\n",
      "100%|██████████| 40/40 [00:00<00:00, 43.26it/s]\n"
     ]
    },
    {
     "name": "stdout",
     "output_type": "stream",
     "text": [
      "Epoch   23/200 train_loss: 1.646723 acc: 0.590204\n"
     ]
    },
    {
     "name": "stderr",
     "output_type": "stream",
     "text": [
      "100%|██████████| 118/118 [00:05<00:00, 20.39it/s]\n",
      "100%|██████████| 40/40 [00:00<00:00, 43.09it/s]\n"
     ]
    },
    {
     "name": "stdout",
     "output_type": "stream",
     "text": [
      "Epoch   24/200 train_loss: 1.637440 acc: 0.602529\n"
     ]
    },
    {
     "name": "stderr",
     "output_type": "stream",
     "text": [
      "100%|██████████| 118/118 [00:05<00:00, 21.19it/s]\n",
      "100%|██████████| 40/40 [00:00<00:00, 43.47it/s]\n"
     ]
    },
    {
     "name": "stdout",
     "output_type": "stream",
     "text": [
      "Epoch   25/200 train_loss: 1.629922 acc: 0.614048\n"
     ]
    },
    {
     "name": "stderr",
     "output_type": "stream",
     "text": [
      "100%|██████████| 118/118 [00:05<00:00, 20.81it/s]\n",
      "100%|██████████| 40/40 [00:00<00:00, 44.19it/s]\n"
     ]
    },
    {
     "name": "stdout",
     "output_type": "stream",
     "text": [
      "Epoch   26/200 train_loss: 1.623827 acc: 0.624712\n"
     ]
    },
    {
     "name": "stderr",
     "output_type": "stream",
     "text": [
      "100%|██████████| 118/118 [00:05<00:00, 21.56it/s]\n",
      "100%|██████████| 40/40 [00:00<00:00, 43.34it/s]\n"
     ]
    },
    {
     "name": "stdout",
     "output_type": "stream",
     "text": [
      "Epoch   27/200 train_loss: 1.617527 acc: 0.634711\n"
     ]
    },
    {
     "name": "stderr",
     "output_type": "stream",
     "text": [
      "100%|██████████| 118/118 [00:05<00:00, 20.78it/s]\n",
      "100%|██████████| 40/40 [00:00<00:00, 41.85it/s]\n"
     ]
    },
    {
     "name": "stdout",
     "output_type": "stream",
     "text": [
      "Epoch   28/200 train_loss: 1.612505 acc: 0.644104\n"
     ]
    },
    {
     "name": "stderr",
     "output_type": "stream",
     "text": [
      "100%|██████████| 118/118 [00:05<00:00, 20.18it/s]\n",
      "100%|██████████| 40/40 [00:00<00:00, 41.33it/s]\n"
     ]
    },
    {
     "name": "stdout",
     "output_type": "stream",
     "text": [
      "Epoch   29/200 train_loss: 1.608091 acc: 0.652834\n"
     ]
    },
    {
     "name": "stderr",
     "output_type": "stream",
     "text": [
      "100%|██████████| 118/118 [00:05<00:00, 19.94it/s]\n",
      "100%|██████████| 40/40 [00:01<00:00, 36.88it/s]\n"
     ]
    },
    {
     "name": "stdout",
     "output_type": "stream",
     "text": [
      "Epoch   30/200 train_loss: 1.604366 acc: 0.661080\n"
     ]
    },
    {
     "name": "stderr",
     "output_type": "stream",
     "text": [
      "100%|██████████| 118/118 [00:06<00:00, 18.70it/s]\n",
      "100%|██████████| 40/40 [00:00<00:00, 42.10it/s]\n"
     ]
    },
    {
     "name": "stdout",
     "output_type": "stream",
     "text": [
      "Epoch   31/200 train_loss: 1.600364 acc: 0.668829\n"
     ]
    },
    {
     "name": "stderr",
     "output_type": "stream",
     "text": [
      "100%|██████████| 118/118 [00:05<00:00, 20.65it/s]\n",
      "100%|██████████| 40/40 [00:00<00:00, 43.95it/s]\n"
     ]
    },
    {
     "name": "stdout",
     "output_type": "stream",
     "text": [
      "Epoch   32/200 train_loss: 1.597570 acc: 0.676131\n"
     ]
    },
    {
     "name": "stderr",
     "output_type": "stream",
     "text": [
      "100%|██████████| 118/118 [00:05<00:00, 21.27it/s]\n",
      "100%|██████████| 40/40 [00:00<00:00, 42.39it/s]\n"
     ]
    },
    {
     "name": "stdout",
     "output_type": "stream",
     "text": [
      "Epoch   33/200 train_loss: 1.594798 acc: 0.683033\n"
     ]
    },
    {
     "name": "stderr",
     "output_type": "stream",
     "text": [
      "100%|██████████| 118/118 [00:05<00:00, 20.88it/s]\n",
      "100%|██████████| 40/40 [00:00<00:00, 41.90it/s]\n"
     ]
    },
    {
     "name": "stdout",
     "output_type": "stream",
     "text": [
      "Epoch   34/200 train_loss: 1.591890 acc: 0.689582\n"
     ]
    },
    {
     "name": "stderr",
     "output_type": "stream",
     "text": [
      "100%|██████████| 118/118 [00:05<00:00, 20.20it/s]\n",
      "100%|██████████| 40/40 [00:00<00:00, 41.04it/s]\n"
     ]
    },
    {
     "name": "stdout",
     "output_type": "stream",
     "text": [
      "Epoch   35/200 train_loss: 1.589504 acc: 0.695746\n"
     ]
    },
    {
     "name": "stderr",
     "output_type": "stream",
     "text": [
      "100%|██████████| 118/118 [00:05<00:00, 20.83it/s]\n",
      "100%|██████████| 40/40 [00:00<00:00, 42.02it/s]\n"
     ]
    },
    {
     "name": "stdout",
     "output_type": "stream",
     "text": [
      "Epoch   36/200 train_loss: 1.586984 acc: 0.701600\n"
     ]
    },
    {
     "name": "stderr",
     "output_type": "stream",
     "text": [
      "100%|██████████| 118/118 [00:05<00:00, 20.96it/s]\n",
      "100%|██████████| 40/40 [00:00<00:00, 42.48it/s]\n"
     ]
    },
    {
     "name": "stdout",
     "output_type": "stream",
     "text": [
      "Epoch   37/200 train_loss: 1.585063 acc: 0.707176\n"
     ]
    },
    {
     "name": "stderr",
     "output_type": "stream",
     "text": [
      "100%|██████████| 118/118 [00:05<00:00, 21.00it/s]\n",
      "100%|██████████| 40/40 [00:00<00:00, 43.04it/s]\n"
     ]
    },
    {
     "name": "stdout",
     "output_type": "stream",
     "text": [
      "Epoch   38/200 train_loss: 1.582727 acc: 0.712468\n"
     ]
    },
    {
     "name": "stderr",
     "output_type": "stream",
     "text": [
      "100%|██████████| 118/118 [00:05<00:00, 21.55it/s]\n",
      "100%|██████████| 40/40 [00:00<00:00, 43.53it/s]\n"
     ]
    },
    {
     "name": "stdout",
     "output_type": "stream",
     "text": [
      "Epoch   39/200 train_loss: 1.581031 acc: 0.717518\n"
     ]
    },
    {
     "name": "stderr",
     "output_type": "stream",
     "text": [
      "100%|██████████| 118/118 [00:05<00:00, 21.65it/s]\n",
      "100%|██████████| 40/40 [00:00<00:00, 44.09it/s]\n"
     ]
    },
    {
     "name": "stdout",
     "output_type": "stream",
     "text": [
      "Epoch   40/200 train_loss: 1.579188 acc: 0.722327\n"
     ]
    },
    {
     "name": "stderr",
     "output_type": "stream",
     "text": [
      "100%|██████████| 118/118 [00:05<00:00, 21.38it/s]\n",
      "100%|██████████| 40/40 [00:00<00:00, 43.52it/s]\n"
     ]
    },
    {
     "name": "stdout",
     "output_type": "stream",
     "text": [
      "Epoch   41/200 train_loss: 1.577654 acc: 0.726917\n"
     ]
    },
    {
     "name": "stderr",
     "output_type": "stream",
     "text": [
      "100%|██████████| 118/118 [00:05<00:00, 21.38it/s]\n",
      "100%|██████████| 40/40 [00:00<00:00, 43.11it/s]\n"
     ]
    },
    {
     "name": "stdout",
     "output_type": "stream",
     "text": [
      "Epoch   42/200 train_loss: 1.576394 acc: 0.731319\n"
     ]
    },
    {
     "name": "stderr",
     "output_type": "stream",
     "text": [
      "100%|██████████| 118/118 [00:05<00:00, 21.11it/s]\n",
      "100%|██████████| 40/40 [00:00<00:00, 43.97it/s]\n"
     ]
    },
    {
     "name": "stdout",
     "output_type": "stream",
     "text": [
      "Epoch   43/200 train_loss: 1.574736 acc: 0.735514\n"
     ]
    },
    {
     "name": "stderr",
     "output_type": "stream",
     "text": [
      "100%|██████████| 118/118 [00:05<00:00, 21.24it/s]\n",
      "100%|██████████| 40/40 [00:00<00:00, 42.58it/s]\n"
     ]
    },
    {
     "name": "stdout",
     "output_type": "stream",
     "text": [
      "Epoch   44/200 train_loss: 1.573674 acc: 0.739539\n"
     ]
    },
    {
     "name": "stderr",
     "output_type": "stream",
     "text": [
      "100%|██████████| 118/118 [00:05<00:00, 20.87it/s]\n",
      "100%|██████████| 40/40 [00:00<00:00, 44.05it/s]\n"
     ]
    },
    {
     "name": "stdout",
     "output_type": "stream",
     "text": [
      "Epoch   45/200 train_loss: 1.572128 acc: 0.743387\n"
     ]
    },
    {
     "name": "stderr",
     "output_type": "stream",
     "text": [
      "100%|██████████| 118/118 [00:05<00:00, 21.52it/s]\n",
      "100%|██████████| 40/40 [00:00<00:00, 43.78it/s]\n"
     ]
    },
    {
     "name": "stdout",
     "output_type": "stream",
     "text": [
      "Epoch   46/200 train_loss: 1.570694 acc: 0.747076\n"
     ]
    },
    {
     "name": "stderr",
     "output_type": "stream",
     "text": [
      "100%|██████████| 118/118 [00:05<00:00, 21.41it/s]\n",
      "100%|██████████| 40/40 [00:00<00:00, 44.24it/s]\n"
     ]
    },
    {
     "name": "stdout",
     "output_type": "stream",
     "text": [
      "Epoch   47/200 train_loss: 1.569471 acc: 0.750623\n"
     ]
    },
    {
     "name": "stderr",
     "output_type": "stream",
     "text": [
      "100%|██████████| 118/118 [00:05<00:00, 21.19it/s]\n",
      "100%|██████████| 40/40 [00:00<00:00, 44.42it/s]\n"
     ]
    },
    {
     "name": "stdout",
     "output_type": "stream",
     "text": [
      "Epoch   48/200 train_loss: 1.568394 acc: 0.754046\n"
     ]
    },
    {
     "name": "stderr",
     "output_type": "stream",
     "text": [
      "100%|██████████| 118/118 [00:05<00:00, 21.35it/s]\n",
      "100%|██████████| 40/40 [00:00<00:00, 42.90it/s]\n"
     ]
    },
    {
     "name": "stdout",
     "output_type": "stream",
     "text": [
      "Epoch   49/200 train_loss: 1.567575 acc: 0.757351\n"
     ]
    },
    {
     "name": "stderr",
     "output_type": "stream",
     "text": [
      "100%|██████████| 118/118 [00:05<00:00, 21.27it/s]\n",
      "100%|██████████| 40/40 [00:00<00:00, 42.98it/s]\n"
     ]
    },
    {
     "name": "stdout",
     "output_type": "stream",
     "text": [
      "Epoch   50/200 train_loss: 1.566420 acc: 0.760542\n"
     ]
    },
    {
     "name": "stderr",
     "output_type": "stream",
     "text": [
      "100%|██████████| 118/118 [00:05<00:00, 20.65it/s]\n",
      "100%|██████████| 40/40 [00:00<00:00, 41.93it/s]\n"
     ]
    },
    {
     "name": "stdout",
     "output_type": "stream",
     "text": [
      "Epoch   51/200 train_loss: 1.565357 acc: 0.763608\n"
     ]
    },
    {
     "name": "stderr",
     "output_type": "stream",
     "text": [
      "100%|██████████| 118/118 [00:05<00:00, 20.72it/s]\n",
      "100%|██████████| 40/40 [00:00<00:00, 40.23it/s]\n"
     ]
    },
    {
     "name": "stdout",
     "output_type": "stream",
     "text": [
      "Epoch   52/200 train_loss: 1.564459 acc: 0.766550\n"
     ]
    },
    {
     "name": "stderr",
     "output_type": "stream",
     "text": [
      "100%|██████████| 118/118 [00:05<00:00, 20.41it/s]\n",
      "100%|██████████| 40/40 [00:00<00:00, 42.88it/s]\n"
     ]
    },
    {
     "name": "stdout",
     "output_type": "stream",
     "text": [
      "Epoch   53/200 train_loss: 1.563451 acc: 0.769411\n"
     ]
    },
    {
     "name": "stderr",
     "output_type": "stream",
     "text": [
      "100%|██████████| 118/118 [00:05<00:00, 20.54it/s]\n",
      "100%|██████████| 40/40 [00:00<00:00, 43.76it/s]\n"
     ]
    },
    {
     "name": "stdout",
     "output_type": "stream",
     "text": [
      "Epoch   54/200 train_loss: 1.562853 acc: 0.772180\n"
     ]
    },
    {
     "name": "stderr",
     "output_type": "stream",
     "text": [
      "100%|██████████| 118/118 [00:05<00:00, 21.29it/s]\n",
      "100%|██████████| 40/40 [00:00<00:00, 41.39it/s]\n"
     ]
    },
    {
     "name": "stdout",
     "output_type": "stream",
     "text": [
      "Epoch   55/200 train_loss: 1.561628 acc: 0.774864\n"
     ]
    },
    {
     "name": "stderr",
     "output_type": "stream",
     "text": [
      "100%|██████████| 118/118 [00:05<00:00, 20.81it/s]\n",
      "100%|██████████| 40/40 [00:00<00:00, 42.46it/s]\n"
     ]
    },
    {
     "name": "stdout",
     "output_type": "stream",
     "text": [
      "Epoch   56/200 train_loss: 1.560894 acc: 0.777436\n"
     ]
    },
    {
     "name": "stderr",
     "output_type": "stream",
     "text": [
      "100%|██████████| 118/118 [00:05<00:00, 20.65it/s]\n",
      "100%|██████████| 40/40 [00:00<00:00, 42.53it/s]\n"
     ]
    },
    {
     "name": "stdout",
     "output_type": "stream",
     "text": [
      "Epoch   57/200 train_loss: 1.560073 acc: 0.779925\n"
     ]
    },
    {
     "name": "stderr",
     "output_type": "stream",
     "text": [
      "100%|██████████| 118/118 [00:05<00:00, 21.44it/s]\n",
      "100%|██████████| 40/40 [00:00<00:00, 43.58it/s]\n"
     ]
    },
    {
     "name": "stdout",
     "output_type": "stream",
     "text": [
      "Epoch   58/200 train_loss: 1.559142 acc: 0.782343\n"
     ]
    },
    {
     "name": "stderr",
     "output_type": "stream",
     "text": [
      "100%|██████████| 118/118 [00:05<00:00, 21.35it/s]\n",
      "100%|██████████| 40/40 [00:00<00:00, 43.64it/s]\n"
     ]
    },
    {
     "name": "stdout",
     "output_type": "stream",
     "text": [
      "Epoch   59/200 train_loss: 1.558847 acc: 0.784702\n"
     ]
    },
    {
     "name": "stderr",
     "output_type": "stream",
     "text": [
      "100%|██████████| 118/118 [00:05<00:00, 20.72it/s]\n",
      "100%|██████████| 40/40 [00:00<00:00, 43.92it/s]\n"
     ]
    },
    {
     "name": "stdout",
     "output_type": "stream",
     "text": [
      "Epoch   60/200 train_loss: 1.557788 acc: 0.786960\n"
     ]
    },
    {
     "name": "stderr",
     "output_type": "stream",
     "text": [
      "100%|██████████| 118/118 [00:05<00:00, 20.63it/s]\n",
      "100%|██████████| 40/40 [00:00<00:00, 43.18it/s]\n"
     ]
    },
    {
     "name": "stdout",
     "output_type": "stream",
     "text": [
      "Epoch   61/200 train_loss: 1.557202 acc: 0.789148\n"
     ]
    },
    {
     "name": "stderr",
     "output_type": "stream",
     "text": [
      "100%|██████████| 118/118 [00:05<00:00, 19.74it/s]\n",
      "100%|██████████| 40/40 [00:01<00:00, 38.10it/s]\n"
     ]
    },
    {
     "name": "stdout",
     "output_type": "stream",
     "text": [
      "Epoch   62/200 train_loss: 1.556455 acc: 0.791287\n"
     ]
    },
    {
     "name": "stderr",
     "output_type": "stream",
     "text": [
      "100%|██████████| 118/118 [00:06<00:00, 18.90it/s]\n",
      "100%|██████████| 40/40 [00:00<00:00, 42.68it/s]\n"
     ]
    },
    {
     "name": "stdout",
     "output_type": "stream",
     "text": [
      "Epoch   63/200 train_loss: 1.555847 acc: 0.793351\n"
     ]
    },
    {
     "name": "stderr",
     "output_type": "stream",
     "text": [
      "100%|██████████| 118/118 [00:05<00:00, 20.49it/s]\n",
      "100%|██████████| 40/40 [00:00<00:00, 42.59it/s]\n"
     ]
    },
    {
     "name": "stdout",
     "output_type": "stream",
     "text": [
      "Epoch   64/200 train_loss: 1.555107 acc: 0.795359\n"
     ]
    },
    {
     "name": "stderr",
     "output_type": "stream",
     "text": [
      "100%|██████████| 118/118 [00:05<00:00, 21.19it/s]\n",
      "100%|██████████| 40/40 [00:00<00:00, 42.67it/s]\n"
     ]
    },
    {
     "name": "stdout",
     "output_type": "stream",
     "text": [
      "Epoch   65/200 train_loss: 1.554418 acc: 0.797320\n"
     ]
    },
    {
     "name": "stderr",
     "output_type": "stream",
     "text": [
      "100%|██████████| 118/118 [00:05<00:00, 21.19it/s]\n",
      "100%|██████████| 40/40 [00:00<00:00, 43.30it/s]\n"
     ]
    },
    {
     "name": "stdout",
     "output_type": "stream",
     "text": [
      "Epoch   66/200 train_loss: 1.554023 acc: 0.799227\n"
     ]
    },
    {
     "name": "stderr",
     "output_type": "stream",
     "text": [
      "100%|██████████| 118/118 [00:05<00:00, 20.57it/s]\n",
      "100%|██████████| 40/40 [00:00<00:00, 42.37it/s]\n"
     ]
    },
    {
     "name": "stdout",
     "output_type": "stream",
     "text": [
      "Epoch   67/200 train_loss: 1.553141 acc: 0.801073\n"
     ]
    },
    {
     "name": "stderr",
     "output_type": "stream",
     "text": [
      "100%|██████████| 118/118 [00:05<00:00, 21.05it/s]\n",
      "100%|██████████| 40/40 [00:00<00:00, 42.91it/s]\n"
     ]
    },
    {
     "name": "stdout",
     "output_type": "stream",
     "text": [
      "Epoch   68/200 train_loss: 1.552921 acc: 0.802865\n"
     ]
    },
    {
     "name": "stderr",
     "output_type": "stream",
     "text": [
      "100%|██████████| 118/118 [00:05<00:00, 21.12it/s]\n",
      "100%|██████████| 40/40 [00:00<00:00, 43.68it/s]\n"
     ]
    },
    {
     "name": "stdout",
     "output_type": "stream",
     "text": [
      "Epoch   69/200 train_loss: 1.552299 acc: 0.804614\n"
     ]
    },
    {
     "name": "stderr",
     "output_type": "stream",
     "text": [
      "100%|██████████| 118/118 [00:05<00:00, 21.04it/s]\n",
      "100%|██████████| 40/40 [00:00<00:00, 43.43it/s]\n"
     ]
    },
    {
     "name": "stdout",
     "output_type": "stream",
     "text": [
      "Epoch   70/200 train_loss: 1.551727 acc: 0.806327\n"
     ]
    },
    {
     "name": "stderr",
     "output_type": "stream",
     "text": [
      "100%|██████████| 118/118 [00:05<00:00, 21.16it/s]\n",
      "100%|██████████| 40/40 [00:00<00:00, 43.14it/s]\n"
     ]
    },
    {
     "name": "stdout",
     "output_type": "stream",
     "text": [
      "Epoch   71/200 train_loss: 1.551037 acc: 0.807990\n"
     ]
    },
    {
     "name": "stderr",
     "output_type": "stream",
     "text": [
      "100%|██████████| 118/118 [00:05<00:00, 21.20it/s]\n",
      "100%|██████████| 40/40 [00:00<00:00, 43.32it/s]\n"
     ]
    },
    {
     "name": "stdout",
     "output_type": "stream",
     "text": [
      "Epoch   72/200 train_loss: 1.550659 acc: 0.809615\n"
     ]
    },
    {
     "name": "stderr",
     "output_type": "stream",
     "text": [
      "100%|██████████| 118/118 [00:05<00:00, 20.99it/s]\n",
      "100%|██████████| 40/40 [00:00<00:00, 43.21it/s]\n"
     ]
    },
    {
     "name": "stdout",
     "output_type": "stream",
     "text": [
      "Epoch   73/200 train_loss: 1.550051 acc: 0.811201\n"
     ]
    },
    {
     "name": "stderr",
     "output_type": "stream",
     "text": [
      "100%|██████████| 118/118 [00:05<00:00, 21.32it/s]\n",
      "100%|██████████| 40/40 [00:00<00:00, 43.28it/s]\n"
     ]
    },
    {
     "name": "stdout",
     "output_type": "stream",
     "text": [
      "Epoch   74/200 train_loss: 1.549400 acc: 0.812746\n"
     ]
    },
    {
     "name": "stderr",
     "output_type": "stream",
     "text": [
      "100%|██████████| 118/118 [00:05<00:00, 21.03it/s]\n",
      "100%|██████████| 40/40 [00:00<00:00, 41.05it/s]\n"
     ]
    },
    {
     "name": "stdout",
     "output_type": "stream",
     "text": [
      "Epoch   75/200 train_loss: 1.548994 acc: 0.814268\n"
     ]
    },
    {
     "name": "stderr",
     "output_type": "stream",
     "text": [
      "100%|██████████| 118/118 [00:05<00:00, 20.67it/s]\n",
      "100%|██████████| 40/40 [00:00<00:00, 43.60it/s]\n"
     ]
    },
    {
     "name": "stdout",
     "output_type": "stream",
     "text": [
      "Epoch   76/200 train_loss: 1.548577 acc: 0.815741\n"
     ]
    },
    {
     "name": "stderr",
     "output_type": "stream",
     "text": [
      "100%|██████████| 118/118 [00:05<00:00, 21.08it/s]\n",
      "100%|██████████| 40/40 [00:00<00:00, 43.50it/s]\n"
     ]
    },
    {
     "name": "stdout",
     "output_type": "stream",
     "text": [
      "Epoch   77/200 train_loss: 1.548424 acc: 0.817177\n"
     ]
    },
    {
     "name": "stderr",
     "output_type": "stream",
     "text": [
      "100%|██████████| 118/118 [00:05<00:00, 21.18it/s]\n",
      "100%|██████████| 40/40 [00:00<00:00, 43.15it/s]\n"
     ]
    },
    {
     "name": "stdout",
     "output_type": "stream",
     "text": [
      "Epoch   78/200 train_loss: 1.547742 acc: 0.818591\n"
     ]
    },
    {
     "name": "stderr",
     "output_type": "stream",
     "text": [
      "100%|██████████| 118/118 [00:05<00:00, 21.12it/s]\n",
      "100%|██████████| 40/40 [00:00<00:00, 43.02it/s]\n"
     ]
    },
    {
     "name": "stdout",
     "output_type": "stream",
     "text": [
      "Epoch   79/200 train_loss: 1.547457 acc: 0.819966\n"
     ]
    },
    {
     "name": "stderr",
     "output_type": "stream",
     "text": [
      "100%|██████████| 118/118 [00:05<00:00, 21.38it/s]\n",
      "100%|██████████| 40/40 [00:00<00:00, 42.56it/s]\n"
     ]
    },
    {
     "name": "stdout",
     "output_type": "stream",
     "text": [
      "Epoch   80/200 train_loss: 1.546876 acc: 0.821304\n"
     ]
    },
    {
     "name": "stderr",
     "output_type": "stream",
     "text": [
      "100%|██████████| 118/118 [00:05<00:00, 21.04it/s]\n",
      "100%|██████████| 40/40 [00:00<00:00, 42.81it/s]\n"
     ]
    },
    {
     "name": "stdout",
     "output_type": "stream",
     "text": [
      "Epoch   81/200 train_loss: 1.546171 acc: 0.822612\n"
     ]
    },
    {
     "name": "stderr",
     "output_type": "stream",
     "text": [
      "100%|██████████| 118/118 [00:05<00:00, 21.42it/s]\n",
      "100%|██████████| 40/40 [00:00<00:00, 43.48it/s]\n"
     ]
    },
    {
     "name": "stdout",
     "output_type": "stream",
     "text": [
      "Epoch   82/200 train_loss: 1.546005 acc: 0.823900\n"
     ]
    },
    {
     "name": "stderr",
     "output_type": "stream",
     "text": [
      "100%|██████████| 118/118 [00:05<00:00, 21.50it/s]\n",
      "100%|██████████| 40/40 [00:00<00:00, 42.67it/s]\n"
     ]
    },
    {
     "name": "stdout",
     "output_type": "stream",
     "text": [
      "Epoch   83/200 train_loss: 1.545425 acc: 0.825161\n"
     ]
    },
    {
     "name": "stderr",
     "output_type": "stream",
     "text": [
      "100%|██████████| 118/118 [00:05<00:00, 21.31it/s]\n",
      "100%|██████████| 40/40 [00:00<00:00, 42.50it/s]\n"
     ]
    },
    {
     "name": "stdout",
     "output_type": "stream",
     "text": [
      "Epoch   84/200 train_loss: 1.545212 acc: 0.826389\n"
     ]
    },
    {
     "name": "stderr",
     "output_type": "stream",
     "text": [
      "100%|██████████| 118/118 [00:05<00:00, 21.31it/s]\n",
      "100%|██████████| 40/40 [00:00<00:00, 43.19it/s]\n"
     ]
    },
    {
     "name": "stdout",
     "output_type": "stream",
     "text": [
      "Epoch   85/200 train_loss: 1.544895 acc: 0.827596\n"
     ]
    },
    {
     "name": "stderr",
     "output_type": "stream",
     "text": [
      "100%|██████████| 118/118 [00:05<00:00, 20.88it/s]\n",
      "100%|██████████| 40/40 [00:00<00:00, 43.73it/s]\n"
     ]
    },
    {
     "name": "stdout",
     "output_type": "stream",
     "text": [
      "Epoch   86/200 train_loss: 1.544235 acc: 0.828772\n"
     ]
    },
    {
     "name": "stderr",
     "output_type": "stream",
     "text": [
      "100%|██████████| 118/118 [00:05<00:00, 21.41it/s]\n",
      "100%|██████████| 40/40 [00:00<00:00, 42.53it/s]\n"
     ]
    },
    {
     "name": "stdout",
     "output_type": "stream",
     "text": [
      "Epoch   87/200 train_loss: 1.544011 acc: 0.829932\n"
     ]
    },
    {
     "name": "stderr",
     "output_type": "stream",
     "text": [
      "100%|██████████| 118/118 [00:05<00:00, 20.98it/s]\n",
      "100%|██████████| 40/40 [00:00<00:00, 42.73it/s]\n"
     ]
    },
    {
     "name": "stdout",
     "output_type": "stream",
     "text": [
      "Epoch   88/200 train_loss: 1.543528 acc: 0.831069\n"
     ]
    },
    {
     "name": "stderr",
     "output_type": "stream",
     "text": [
      "100%|██████████| 118/118 [00:05<00:00, 21.01it/s]\n",
      "100%|██████████| 40/40 [00:00<00:00, 42.68it/s]\n"
     ]
    },
    {
     "name": "stdout",
     "output_type": "stream",
     "text": [
      "Epoch   89/200 train_loss: 1.543369 acc: 0.832184\n"
     ]
    },
    {
     "name": "stderr",
     "output_type": "stream",
     "text": [
      "100%|██████████| 118/118 [00:05<00:00, 20.77it/s]\n",
      "100%|██████████| 40/40 [00:00<00:00, 41.32it/s]\n"
     ]
    },
    {
     "name": "stdout",
     "output_type": "stream",
     "text": [
      "Epoch   90/200 train_loss: 1.542778 acc: 0.833273\n"
     ]
    },
    {
     "name": "stderr",
     "output_type": "stream",
     "text": [
      "100%|██████████| 118/118 [00:05<00:00, 20.97it/s]\n",
      "100%|██████████| 40/40 [00:00<00:00, 42.63it/s]\n"
     ]
    },
    {
     "name": "stdout",
     "output_type": "stream",
     "text": [
      "Epoch   91/200 train_loss: 1.542435 acc: 0.834344\n"
     ]
    },
    {
     "name": "stderr",
     "output_type": "stream",
     "text": [
      "100%|██████████| 118/118 [00:05<00:00, 20.90it/s]\n",
      "100%|██████████| 40/40 [00:00<00:00, 42.03it/s]\n"
     ]
    },
    {
     "name": "stdout",
     "output_type": "stream",
     "text": [
      "Epoch   92/200 train_loss: 1.541879 acc: 0.835390\n"
     ]
    },
    {
     "name": "stderr",
     "output_type": "stream",
     "text": [
      "100%|██████████| 118/118 [00:05<00:00, 21.45it/s]\n",
      "100%|██████████| 40/40 [00:00<00:00, 42.48it/s]\n"
     ]
    },
    {
     "name": "stdout",
     "output_type": "stream",
     "text": [
      "Epoch   93/200 train_loss: 1.541649 acc: 0.836419\n"
     ]
    },
    {
     "name": "stderr",
     "output_type": "stream",
     "text": [
      "100%|██████████| 118/118 [00:05<00:00, 20.72it/s]\n",
      "100%|██████████| 40/40 [00:00<00:00, 43.33it/s]\n"
     ]
    },
    {
     "name": "stdout",
     "output_type": "stream",
     "text": [
      "Epoch   94/200 train_loss: 1.541318 acc: 0.837436\n"
     ]
    },
    {
     "name": "stderr",
     "output_type": "stream",
     "text": [
      "100%|██████████| 118/118 [00:05<00:00, 20.87it/s]\n",
      "100%|██████████| 40/40 [00:00<00:00, 42.00it/s]\n"
     ]
    },
    {
     "name": "stdout",
     "output_type": "stream",
     "text": [
      "Epoch   95/200 train_loss: 1.540888 acc: 0.838434\n"
     ]
    },
    {
     "name": "stderr",
     "output_type": "stream",
     "text": [
      "100%|██████████| 118/118 [00:05<00:00, 21.14it/s]\n",
      "100%|██████████| 40/40 [00:00<00:00, 43.71it/s]\n"
     ]
    },
    {
     "name": "stdout",
     "output_type": "stream",
     "text": [
      "Epoch   96/200 train_loss: 1.540637 acc: 0.839407\n"
     ]
    },
    {
     "name": "stderr",
     "output_type": "stream",
     "text": [
      "100%|██████████| 118/118 [00:05<00:00, 21.43it/s]\n",
      "100%|██████████| 40/40 [00:00<00:00, 43.80it/s]\n"
     ]
    },
    {
     "name": "stdout",
     "output_type": "stream",
     "text": [
      "Epoch   97/200 train_loss: 1.540278 acc: 0.840367\n"
     ]
    },
    {
     "name": "stderr",
     "output_type": "stream",
     "text": [
      "100%|██████████| 118/118 [00:05<00:00, 21.18it/s]\n",
      "100%|██████████| 40/40 [00:00<00:00, 42.91it/s]\n"
     ]
    },
    {
     "name": "stdout",
     "output_type": "stream",
     "text": [
      "Epoch   98/200 train_loss: 1.539833 acc: 0.841302\n"
     ]
    },
    {
     "name": "stderr",
     "output_type": "stream",
     "text": [
      "100%|██████████| 118/118 [00:05<00:00, 21.54it/s]\n",
      "100%|██████████| 40/40 [00:00<00:00, 42.93it/s]\n"
     ]
    },
    {
     "name": "stdout",
     "output_type": "stream",
     "text": [
      "Epoch   99/200 train_loss: 1.539536 acc: 0.842229\n"
     ]
    },
    {
     "name": "stderr",
     "output_type": "stream",
     "text": [
      "100%|██████████| 118/118 [00:05<00:00, 20.77it/s]\n",
      "100%|██████████| 40/40 [00:00<00:00, 41.55it/s]\n"
     ]
    },
    {
     "name": "stdout",
     "output_type": "stream",
     "text": [
      "Epoch  100/200 train_loss: 1.539137 acc: 0.843137\n"
     ]
    },
    {
     "name": "stderr",
     "output_type": "stream",
     "text": [
      "100%|██████████| 118/118 [00:05<00:00, 21.47it/s]\n",
      "100%|██████████| 40/40 [00:00<00:00, 43.47it/s]\n"
     ]
    },
    {
     "name": "stdout",
     "output_type": "stream",
     "text": [
      "Epoch  101/200 train_loss: 1.538835 acc: 0.844031\n"
     ]
    },
    {
     "name": "stderr",
     "output_type": "stream",
     "text": [
      "100%|██████████| 118/118 [00:05<00:00, 21.17it/s]\n",
      "100%|██████████| 40/40 [00:00<00:00, 43.76it/s]\n"
     ]
    },
    {
     "name": "stdout",
     "output_type": "stream",
     "text": [
      "Epoch  102/200 train_loss: 1.538496 acc: 0.844901\n"
     ]
    },
    {
     "name": "stderr",
     "output_type": "stream",
     "text": [
      "100%|██████████| 118/118 [00:05<00:00, 21.06it/s]\n",
      "100%|██████████| 40/40 [00:00<00:00, 42.86it/s]\n"
     ]
    },
    {
     "name": "stdout",
     "output_type": "stream",
     "text": [
      "Epoch  103/200 train_loss: 1.538187 acc: 0.845765\n"
     ]
    },
    {
     "name": "stderr",
     "output_type": "stream",
     "text": [
      "100%|██████████| 118/118 [00:05<00:00, 21.07it/s]\n",
      "100%|██████████| 40/40 [00:00<00:00, 42.80it/s]\n"
     ]
    },
    {
     "name": "stdout",
     "output_type": "stream",
     "text": [
      "Epoch  104/200 train_loss: 1.537950 acc: 0.846614\n"
     ]
    },
    {
     "name": "stderr",
     "output_type": "stream",
     "text": [
      "100%|██████████| 118/118 [00:05<00:00, 20.96it/s]\n",
      "100%|██████████| 40/40 [00:00<00:00, 44.16it/s]\n"
     ]
    },
    {
     "name": "stdout",
     "output_type": "stream",
     "text": [
      "Epoch  105/200 train_loss: 1.537292 acc: 0.847447\n"
     ]
    },
    {
     "name": "stderr",
     "output_type": "stream",
     "text": [
      "100%|██████████| 118/118 [00:05<00:00, 21.37it/s]\n",
      "100%|██████████| 40/40 [00:00<00:00, 44.06it/s]\n"
     ]
    },
    {
     "name": "stdout",
     "output_type": "stream",
     "text": [
      "Epoch  106/200 train_loss: 1.537075 acc: 0.848267\n"
     ]
    },
    {
     "name": "stderr",
     "output_type": "stream",
     "text": [
      "100%|██████████| 118/118 [00:05<00:00, 21.43it/s]\n",
      "100%|██████████| 40/40 [00:00<00:00, 43.51it/s]\n"
     ]
    },
    {
     "name": "stdout",
     "output_type": "stream",
     "text": [
      "Epoch  107/200 train_loss: 1.537057 acc: 0.849075\n"
     ]
    },
    {
     "name": "stderr",
     "output_type": "stream",
     "text": [
      "100%|██████████| 118/118 [00:05<00:00, 20.86it/s]\n",
      "100%|██████████| 40/40 [00:00<00:00, 41.95it/s]\n"
     ]
    },
    {
     "name": "stdout",
     "output_type": "stream",
     "text": [
      "Epoch  108/200 train_loss: 1.536635 acc: 0.849867\n"
     ]
    },
    {
     "name": "stderr",
     "output_type": "stream",
     "text": [
      "100%|██████████| 118/118 [00:05<00:00, 20.30it/s]\n",
      "100%|██████████| 40/40 [00:00<00:00, 42.31it/s]\n"
     ]
    },
    {
     "name": "stdout",
     "output_type": "stream",
     "text": [
      "Epoch  109/200 train_loss: 1.536611 acc: 0.850649\n"
     ]
    },
    {
     "name": "stderr",
     "output_type": "stream",
     "text": [
      "100%|██████████| 118/118 [00:05<00:00, 20.25it/s]\n",
      "100%|██████████| 40/40 [00:00<00:00, 42.36it/s]\n"
     ]
    },
    {
     "name": "stdout",
     "output_type": "stream",
     "text": [
      "Epoch  110/200 train_loss: 1.536060 acc: 0.851416\n"
     ]
    },
    {
     "name": "stderr",
     "output_type": "stream",
     "text": [
      "100%|██████████| 118/118 [00:05<00:00, 20.87it/s]\n",
      "100%|██████████| 40/40 [00:00<00:00, 43.20it/s]\n"
     ]
    },
    {
     "name": "stdout",
     "output_type": "stream",
     "text": [
      "Epoch  111/200 train_loss: 1.535529 acc: 0.852168\n"
     ]
    },
    {
     "name": "stderr",
     "output_type": "stream",
     "text": [
      "100%|██████████| 118/118 [00:05<00:00, 20.81it/s]\n",
      "100%|██████████| 40/40 [00:00<00:00, 43.37it/s]\n"
     ]
    },
    {
     "name": "stdout",
     "output_type": "stream",
     "text": [
      "Epoch  112/200 train_loss: 1.535710 acc: 0.852912\n"
     ]
    },
    {
     "name": "stderr",
     "output_type": "stream",
     "text": [
      "100%|██████████| 118/118 [00:05<00:00, 20.86it/s]\n",
      "100%|██████████| 40/40 [00:00<00:00, 42.51it/s]\n"
     ]
    },
    {
     "name": "stdout",
     "output_type": "stream",
     "text": [
      "Epoch  113/200 train_loss: 1.535143 acc: 0.853643\n"
     ]
    },
    {
     "name": "stderr",
     "output_type": "stream",
     "text": [
      "100%|██████████| 118/118 [00:05<00:00, 20.62it/s]\n",
      "100%|██████████| 40/40 [00:00<00:00, 41.81it/s]\n"
     ]
    },
    {
     "name": "stdout",
     "output_type": "stream",
     "text": [
      "Epoch  114/200 train_loss: 1.534719 acc: 0.854364\n"
     ]
    },
    {
     "name": "stderr",
     "output_type": "stream",
     "text": [
      "100%|██████████| 118/118 [00:05<00:00, 21.19it/s]\n",
      "100%|██████████| 40/40 [00:00<00:00, 43.14it/s]\n"
     ]
    },
    {
     "name": "stdout",
     "output_type": "stream",
     "text": [
      "Epoch  115/200 train_loss: 1.534868 acc: 0.855070\n"
     ]
    },
    {
     "name": "stderr",
     "output_type": "stream",
     "text": [
      "100%|██████████| 118/118 [00:05<00:00, 21.64it/s]\n",
      "100%|██████████| 40/40 [00:00<00:00, 44.61it/s]\n"
     ]
    },
    {
     "name": "stdout",
     "output_type": "stream",
     "text": [
      "Epoch  116/200 train_loss: 1.534668 acc: 0.855764\n"
     ]
    },
    {
     "name": "stderr",
     "output_type": "stream",
     "text": [
      "100%|██████████| 118/118 [00:05<00:00, 21.53it/s]\n",
      "100%|██████████| 40/40 [00:00<00:00, 43.57it/s]\n"
     ]
    },
    {
     "name": "stdout",
     "output_type": "stream",
     "text": [
      "Epoch  117/200 train_loss: 1.533973 acc: 0.856447\n"
     ]
    },
    {
     "name": "stderr",
     "output_type": "stream",
     "text": [
      "100%|██████████| 118/118 [00:05<00:00, 21.26it/s]\n",
      "100%|██████████| 40/40 [00:00<00:00, 43.55it/s]\n"
     ]
    },
    {
     "name": "stdout",
     "output_type": "stream",
     "text": [
      "Epoch  118/200 train_loss: 1.533930 acc: 0.857121\n"
     ]
    },
    {
     "name": "stderr",
     "output_type": "stream",
     "text": [
      "100%|██████████| 118/118 [00:05<00:00, 20.98it/s]\n",
      "100%|██████████| 40/40 [00:00<00:00, 42.81it/s]\n"
     ]
    },
    {
     "name": "stdout",
     "output_type": "stream",
     "text": [
      "Epoch  119/200 train_loss: 1.533672 acc: 0.857785\n"
     ]
    },
    {
     "name": "stderr",
     "output_type": "stream",
     "text": [
      "100%|██████████| 118/118 [00:05<00:00, 20.67it/s]\n",
      "100%|██████████| 40/40 [00:00<00:00, 41.98it/s]\n"
     ]
    },
    {
     "name": "stdout",
     "output_type": "stream",
     "text": [
      "Epoch  120/200 train_loss: 1.533440 acc: 0.858441\n"
     ]
    },
    {
     "name": "stderr",
     "output_type": "stream",
     "text": [
      "100%|██████████| 118/118 [00:05<00:00, 20.33it/s]\n",
      "100%|██████████| 40/40 [00:00<00:00, 41.89it/s]\n"
     ]
    },
    {
     "name": "stdout",
     "output_type": "stream",
     "text": [
      "Epoch  121/200 train_loss: 1.532818 acc: 0.859089\n"
     ]
    },
    {
     "name": "stderr",
     "output_type": "stream",
     "text": [
      "100%|██████████| 118/118 [00:05<00:00, 21.12it/s]\n",
      "100%|██████████| 40/40 [00:00<00:00, 43.15it/s]\n"
     ]
    },
    {
     "name": "stdout",
     "output_type": "stream",
     "text": [
      "Epoch  122/200 train_loss: 1.532689 acc: 0.859725\n"
     ]
    },
    {
     "name": "stderr",
     "output_type": "stream",
     "text": [
      "100%|██████████| 118/118 [00:05<00:00, 20.78it/s]\n",
      "100%|██████████| 40/40 [00:00<00:00, 43.61it/s]\n"
     ]
    },
    {
     "name": "stdout",
     "output_type": "stream",
     "text": [
      "Epoch  123/200 train_loss: 1.532469 acc: 0.860345\n"
     ]
    },
    {
     "name": "stderr",
     "output_type": "stream",
     "text": [
      "100%|██████████| 118/118 [00:05<00:00, 20.85it/s]\n",
      "100%|██████████| 40/40 [00:00<00:00, 42.46it/s]\n"
     ]
    },
    {
     "name": "stdout",
     "output_type": "stream",
     "text": [
      "Epoch  124/200 train_loss: 1.532649 acc: 0.860956\n"
     ]
    },
    {
     "name": "stderr",
     "output_type": "stream",
     "text": [
      "100%|██████████| 118/118 [00:05<00:00, 20.99it/s]\n",
      "100%|██████████| 40/40 [00:00<00:00, 42.49it/s]\n"
     ]
    },
    {
     "name": "stdout",
     "output_type": "stream",
     "text": [
      "Epoch  125/200 train_loss: 1.532177 acc: 0.861566\n"
     ]
    },
    {
     "name": "stderr",
     "output_type": "stream",
     "text": [
      "100%|██████████| 118/118 [00:05<00:00, 21.66it/s]\n",
      "100%|██████████| 40/40 [00:00<00:00, 43.38it/s]\n"
     ]
    },
    {
     "name": "stdout",
     "output_type": "stream",
     "text": [
      "Epoch  126/200 train_loss: 1.531794 acc: 0.862163\n"
     ]
    },
    {
     "name": "stderr",
     "output_type": "stream",
     "text": [
      "100%|██████████| 118/118 [00:05<00:00, 21.16it/s]\n",
      "100%|██████████| 40/40 [00:00<00:00, 43.28it/s]\n"
     ]
    },
    {
     "name": "stdout",
     "output_type": "stream",
     "text": [
      "Epoch  127/200 train_loss: 1.531605 acc: 0.862751\n"
     ]
    },
    {
     "name": "stderr",
     "output_type": "stream",
     "text": [
      "100%|██████████| 118/118 [00:05<00:00, 20.68it/s]\n",
      "100%|██████████| 40/40 [00:00<00:00, 42.97it/s]\n"
     ]
    },
    {
     "name": "stdout",
     "output_type": "stream",
     "text": [
      "Epoch  128/200 train_loss: 1.531558 acc: 0.863334\n"
     ]
    },
    {
     "name": "stderr",
     "output_type": "stream",
     "text": [
      "100%|██████████| 118/118 [00:05<00:00, 21.23it/s]\n",
      "100%|██████████| 40/40 [00:00<00:00, 41.10it/s]\n"
     ]
    },
    {
     "name": "stdout",
     "output_type": "stream",
     "text": [
      "Epoch  129/200 train_loss: 1.531149 acc: 0.863909\n"
     ]
    },
    {
     "name": "stderr",
     "output_type": "stream",
     "text": [
      "100%|██████████| 118/118 [00:05<00:00, 20.65it/s]\n",
      "100%|██████████| 40/40 [00:00<00:00, 40.42it/s]\n"
     ]
    },
    {
     "name": "stdout",
     "output_type": "stream",
     "text": [
      "Epoch  130/200 train_loss: 1.530777 acc: 0.864475\n"
     ]
    },
    {
     "name": "stderr",
     "output_type": "stream",
     "text": [
      "100%|██████████| 118/118 [00:06<00:00, 19.48it/s]\n",
      "100%|██████████| 40/40 [00:00<00:00, 42.97it/s]\n"
     ]
    },
    {
     "name": "stdout",
     "output_type": "stream",
     "text": [
      "Epoch  131/200 train_loss: 1.530526 acc: 0.865037\n"
     ]
    },
    {
     "name": "stderr",
     "output_type": "stream",
     "text": [
      "100%|██████████| 118/118 [00:05<00:00, 20.85it/s]\n",
      "100%|██████████| 40/40 [00:00<00:00, 42.93it/s]\n"
     ]
    },
    {
     "name": "stdout",
     "output_type": "stream",
     "text": [
      "Epoch  132/200 train_loss: 1.530528 acc: 0.865592\n"
     ]
    },
    {
     "name": "stderr",
     "output_type": "stream",
     "text": [
      "100%|██████████| 118/118 [00:05<00:00, 20.73it/s]\n",
      "100%|██████████| 40/40 [00:00<00:00, 42.80it/s]\n"
     ]
    },
    {
     "name": "stdout",
     "output_type": "stream",
     "text": [
      "Epoch  133/200 train_loss: 1.529995 acc: 0.866138\n"
     ]
    },
    {
     "name": "stderr",
     "output_type": "stream",
     "text": [
      "100%|██████████| 118/118 [00:05<00:00, 20.77it/s]\n",
      "100%|██████████| 40/40 [00:00<00:00, 41.16it/s]\n"
     ]
    },
    {
     "name": "stdout",
     "output_type": "stream",
     "text": [
      "Epoch  134/200 train_loss: 1.530055 acc: 0.866675\n"
     ]
    },
    {
     "name": "stderr",
     "output_type": "stream",
     "text": [
      "100%|██████████| 118/118 [00:05<00:00, 20.72it/s]\n",
      "100%|██████████| 40/40 [00:00<00:00, 43.02it/s]\n"
     ]
    },
    {
     "name": "stdout",
     "output_type": "stream",
     "text": [
      "Epoch  135/200 train_loss: 1.529624 acc: 0.867207\n"
     ]
    },
    {
     "name": "stderr",
     "output_type": "stream",
     "text": [
      "100%|██████████| 118/118 [00:05<00:00, 20.74it/s]\n",
      "100%|██████████| 40/40 [00:00<00:00, 44.36it/s]\n"
     ]
    },
    {
     "name": "stdout",
     "output_type": "stream",
     "text": [
      "Epoch  136/200 train_loss: 1.529510 acc: 0.867731\n"
     ]
    },
    {
     "name": "stderr",
     "output_type": "stream",
     "text": [
      "100%|██████████| 118/118 [00:05<00:00, 20.60it/s]\n",
      "100%|██████████| 40/40 [00:00<00:00, 43.64it/s]\n"
     ]
    },
    {
     "name": "stdout",
     "output_type": "stream",
     "text": [
      "Epoch  137/200 train_loss: 1.529198 acc: 0.868250\n"
     ]
    },
    {
     "name": "stderr",
     "output_type": "stream",
     "text": [
      "100%|██████████| 118/118 [00:05<00:00, 20.86it/s]\n",
      "100%|██████████| 40/40 [00:00<00:00, 41.99it/s]\n"
     ]
    },
    {
     "name": "stdout",
     "output_type": "stream",
     "text": [
      "Epoch  138/200 train_loss: 1.528995 acc: 0.868765\n"
     ]
    },
    {
     "name": "stderr",
     "output_type": "stream",
     "text": [
      "100%|██████████| 118/118 [00:05<00:00, 21.06it/s]\n",
      "100%|██████████| 40/40 [00:00<00:00, 42.41it/s]\n"
     ]
    },
    {
     "name": "stdout",
     "output_type": "stream",
     "text": [
      "Epoch  139/200 train_loss: 1.529010 acc: 0.869280\n"
     ]
    },
    {
     "name": "stderr",
     "output_type": "stream",
     "text": [
      "100%|██████████| 118/118 [00:05<00:00, 20.93it/s]\n",
      "100%|██████████| 40/40 [00:00<00:00, 40.73it/s]\n"
     ]
    },
    {
     "name": "stdout",
     "output_type": "stream",
     "text": [
      "Epoch  140/200 train_loss: 1.528511 acc: 0.869786\n"
     ]
    },
    {
     "name": "stderr",
     "output_type": "stream",
     "text": [
      "100%|██████████| 118/118 [00:05<00:00, 21.11it/s]\n",
      "100%|██████████| 40/40 [00:00<00:00, 41.95it/s]\n"
     ]
    },
    {
     "name": "stdout",
     "output_type": "stream",
     "text": [
      "Epoch  141/200 train_loss: 1.528537 acc: 0.870281\n"
     ]
    },
    {
     "name": "stderr",
     "output_type": "stream",
     "text": [
      "100%|██████████| 118/118 [00:05<00:00, 20.73it/s]\n",
      "100%|██████████| 40/40 [00:00<00:00, 41.34it/s]\n"
     ]
    },
    {
     "name": "stdout",
     "output_type": "stream",
     "text": [
      "Epoch  142/200 train_loss: 1.527961 acc: 0.870763\n"
     ]
    },
    {
     "name": "stderr",
     "output_type": "stream",
     "text": [
      "100%|██████████| 118/118 [00:05<00:00, 20.38it/s]\n",
      "100%|██████████| 40/40 [00:00<00:00, 40.11it/s]\n"
     ]
    },
    {
     "name": "stdout",
     "output_type": "stream",
     "text": [
      "Epoch  143/200 train_loss: 1.527988 acc: 0.871243\n"
     ]
    },
    {
     "name": "stderr",
     "output_type": "stream",
     "text": [
      "100%|██████████| 118/118 [00:05<00:00, 20.25it/s]\n",
      "100%|██████████| 40/40 [00:00<00:00, 43.13it/s]\n"
     ]
    },
    {
     "name": "stdout",
     "output_type": "stream",
     "text": [
      "Epoch  144/200 train_loss: 1.527853 acc: 0.871724\n"
     ]
    },
    {
     "name": "stderr",
     "output_type": "stream",
     "text": [
      "100%|██████████| 118/118 [00:05<00:00, 21.21it/s]\n",
      "100%|██████████| 40/40 [00:00<00:00, 42.86it/s]\n"
     ]
    },
    {
     "name": "stdout",
     "output_type": "stream",
     "text": [
      "Epoch  145/200 train_loss: 1.527400 acc: 0.872192\n"
     ]
    },
    {
     "name": "stderr",
     "output_type": "stream",
     "text": [
      "100%|██████████| 118/118 [00:05<00:00, 21.19it/s]\n",
      "100%|██████████| 40/40 [00:00<00:00, 44.22it/s]\n"
     ]
    },
    {
     "name": "stdout",
     "output_type": "stream",
     "text": [
      "Epoch  146/200 train_loss: 1.527300 acc: 0.872653\n"
     ]
    },
    {
     "name": "stderr",
     "output_type": "stream",
     "text": [
      "100%|██████████| 118/118 [00:05<00:00, 21.04it/s]\n",
      "100%|██████████| 40/40 [00:00<00:00, 42.84it/s]\n"
     ]
    },
    {
     "name": "stdout",
     "output_type": "stream",
     "text": [
      "Epoch  147/200 train_loss: 1.526974 acc: 0.873112\n"
     ]
    },
    {
     "name": "stderr",
     "output_type": "stream",
     "text": [
      "100%|██████████| 118/118 [00:05<00:00, 21.28it/s]\n",
      "100%|██████████| 40/40 [00:00<00:00, 43.23it/s]\n"
     ]
    },
    {
     "name": "stdout",
     "output_type": "stream",
     "text": [
      "Epoch  148/200 train_loss: 1.526635 acc: 0.873570\n"
     ]
    },
    {
     "name": "stderr",
     "output_type": "stream",
     "text": [
      "100%|██████████| 118/118 [00:05<00:00, 21.29it/s]\n",
      "100%|██████████| 40/40 [00:00<00:00, 41.84it/s]\n"
     ]
    },
    {
     "name": "stdout",
     "output_type": "stream",
     "text": [
      "Epoch  149/200 train_loss: 1.526692 acc: 0.874019\n"
     ]
    },
    {
     "name": "stderr",
     "output_type": "stream",
     "text": [
      "100%|██████████| 118/118 [00:05<00:00, 21.21it/s]\n",
      "100%|██████████| 40/40 [00:00<00:00, 42.51it/s]\n"
     ]
    },
    {
     "name": "stdout",
     "output_type": "stream",
     "text": [
      "Epoch  150/200 train_loss: 1.526628 acc: 0.874462\n"
     ]
    },
    {
     "name": "stderr",
     "output_type": "stream",
     "text": [
      "100%|██████████| 118/118 [00:05<00:00, 21.03it/s]\n",
      "100%|██████████| 40/40 [00:00<00:00, 42.99it/s]\n"
     ]
    },
    {
     "name": "stdout",
     "output_type": "stream",
     "text": [
      "Epoch  151/200 train_loss: 1.526285 acc: 0.874899\n"
     ]
    },
    {
     "name": "stderr",
     "output_type": "stream",
     "text": [
      "100%|██████████| 118/118 [00:05<00:00, 20.99it/s]\n",
      "100%|██████████| 40/40 [00:00<00:00, 43.36it/s]\n"
     ]
    },
    {
     "name": "stdout",
     "output_type": "stream",
     "text": [
      "Epoch  152/200 train_loss: 1.525881 acc: 0.875332\n"
     ]
    },
    {
     "name": "stderr",
     "output_type": "stream",
     "text": [
      "100%|██████████| 118/118 [00:05<00:00, 21.45it/s]\n",
      "100%|██████████| 40/40 [00:00<00:00, 43.95it/s]\n"
     ]
    },
    {
     "name": "stdout",
     "output_type": "stream",
     "text": [
      "Epoch  153/200 train_loss: 1.525778 acc: 0.875761\n"
     ]
    },
    {
     "name": "stderr",
     "output_type": "stream",
     "text": [
      "100%|██████████| 118/118 [00:05<00:00, 21.24it/s]\n",
      "100%|██████████| 40/40 [00:00<00:00, 43.56it/s]\n"
     ]
    },
    {
     "name": "stdout",
     "output_type": "stream",
     "text": [
      "Epoch  154/200 train_loss: 1.525572 acc: 0.876181\n"
     ]
    },
    {
     "name": "stderr",
     "output_type": "stream",
     "text": [
      "100%|██████████| 118/118 [00:05<00:00, 21.46it/s]\n",
      "100%|██████████| 40/40 [00:00<00:00, 43.91it/s]\n"
     ]
    },
    {
     "name": "stdout",
     "output_type": "stream",
     "text": [
      "Epoch  155/200 train_loss: 1.525360 acc: 0.876599\n"
     ]
    },
    {
     "name": "stderr",
     "output_type": "stream",
     "text": [
      "100%|██████████| 118/118 [00:05<00:00, 21.38it/s]\n",
      "100%|██████████| 40/40 [00:00<00:00, 43.49it/s]\n"
     ]
    },
    {
     "name": "stdout",
     "output_type": "stream",
     "text": [
      "Epoch  156/200 train_loss: 1.525143 acc: 0.877012\n"
     ]
    },
    {
     "name": "stderr",
     "output_type": "stream",
     "text": [
      "100%|██████████| 118/118 [00:05<00:00, 20.73it/s]\n",
      "100%|██████████| 40/40 [00:00<00:00, 41.98it/s]\n"
     ]
    },
    {
     "name": "stdout",
     "output_type": "stream",
     "text": [
      "Epoch  157/200 train_loss: 1.525086 acc: 0.877423\n"
     ]
    },
    {
     "name": "stderr",
     "output_type": "stream",
     "text": [
      "100%|██████████| 118/118 [00:05<00:00, 20.84it/s]\n",
      "100%|██████████| 40/40 [00:01<00:00, 36.58it/s]\n"
     ]
    },
    {
     "name": "stdout",
     "output_type": "stream",
     "text": [
      "Epoch  158/200 train_loss: 1.525049 acc: 0.877830\n"
     ]
    },
    {
     "name": "stderr",
     "output_type": "stream",
     "text": [
      "100%|██████████| 118/118 [00:05<00:00, 20.70it/s]\n",
      "100%|██████████| 40/40 [00:00<00:00, 42.52it/s]\n"
     ]
    },
    {
     "name": "stdout",
     "output_type": "stream",
     "text": [
      "Epoch  159/200 train_loss: 1.524767 acc: 0.878231\n"
     ]
    },
    {
     "name": "stderr",
     "output_type": "stream",
     "text": [
      "100%|██████████| 118/118 [00:05<00:00, 20.23it/s]\n",
      "100%|██████████| 40/40 [00:00<00:00, 40.71it/s]\n"
     ]
    },
    {
     "name": "stdout",
     "output_type": "stream",
     "text": [
      "Epoch  160/200 train_loss: 1.524818 acc: 0.878627\n"
     ]
    },
    {
     "name": "stderr",
     "output_type": "stream",
     "text": [
      "100%|██████████| 118/118 [00:05<00:00, 20.49it/s]\n",
      "100%|██████████| 40/40 [00:00<00:00, 43.46it/s]\n"
     ]
    },
    {
     "name": "stdout",
     "output_type": "stream",
     "text": [
      "Epoch  161/200 train_loss: 1.524187 acc: 0.879019\n"
     ]
    },
    {
     "name": "stderr",
     "output_type": "stream",
     "text": [
      "100%|██████████| 118/118 [00:05<00:00, 20.93it/s]\n",
      "100%|██████████| 40/40 [00:00<00:00, 40.28it/s]\n"
     ]
    },
    {
     "name": "stdout",
     "output_type": "stream",
     "text": [
      "Epoch  162/200 train_loss: 1.524008 acc: 0.879406\n"
     ]
    },
    {
     "name": "stderr",
     "output_type": "stream",
     "text": [
      "100%|██████████| 118/118 [00:05<00:00, 20.97it/s]\n",
      "100%|██████████| 40/40 [00:00<00:00, 44.24it/s]\n"
     ]
    },
    {
     "name": "stdout",
     "output_type": "stream",
     "text": [
      "Epoch  163/200 train_loss: 1.523965 acc: 0.879790\n"
     ]
    },
    {
     "name": "stderr",
     "output_type": "stream",
     "text": [
      "100%|██████████| 118/118 [00:05<00:00, 21.34it/s]\n",
      "100%|██████████| 40/40 [00:00<00:00, 43.76it/s]\n"
     ]
    },
    {
     "name": "stdout",
     "output_type": "stream",
     "text": [
      "Epoch  164/200 train_loss: 1.523814 acc: 0.880170\n"
     ]
    },
    {
     "name": "stderr",
     "output_type": "stream",
     "text": [
      "100%|██████████| 118/118 [00:05<00:00, 21.12it/s]\n",
      "100%|██████████| 40/40 [00:00<00:00, 42.81it/s]\n"
     ]
    },
    {
     "name": "stdout",
     "output_type": "stream",
     "text": [
      "Epoch  165/200 train_loss: 1.523336 acc: 0.880550\n"
     ]
    },
    {
     "name": "stderr",
     "output_type": "stream",
     "text": [
      "100%|██████████| 118/118 [00:05<00:00, 21.12it/s]\n",
      "100%|██████████| 40/40 [00:00<00:00, 43.88it/s]\n"
     ]
    },
    {
     "name": "stdout",
     "output_type": "stream",
     "text": [
      "Epoch  166/200 train_loss: 1.523287 acc: 0.880922\n"
     ]
    },
    {
     "name": "stderr",
     "output_type": "stream",
     "text": [
      "100%|██████████| 118/118 [00:05<00:00, 21.16it/s]\n",
      "100%|██████████| 40/40 [00:00<00:00, 42.33it/s]\n"
     ]
    },
    {
     "name": "stdout",
     "output_type": "stream",
     "text": [
      "Epoch  167/200 train_loss: 1.523196 acc: 0.881288\n"
     ]
    },
    {
     "name": "stderr",
     "output_type": "stream",
     "text": [
      "100%|██████████| 118/118 [00:05<00:00, 21.37it/s]\n",
      "100%|██████████| 40/40 [00:00<00:00, 42.57it/s]\n"
     ]
    },
    {
     "name": "stdout",
     "output_type": "stream",
     "text": [
      "Epoch  168/200 train_loss: 1.523239 acc: 0.881648\n"
     ]
    },
    {
     "name": "stderr",
     "output_type": "stream",
     "text": [
      "100%|██████████| 118/118 [00:05<00:00, 21.13it/s]\n",
      "100%|██████████| 40/40 [00:00<00:00, 41.38it/s]\n"
     ]
    },
    {
     "name": "stdout",
     "output_type": "stream",
     "text": [
      "Epoch  169/200 train_loss: 1.522948 acc: 0.882003\n"
     ]
    },
    {
     "name": "stderr",
     "output_type": "stream",
     "text": [
      "100%|██████████| 118/118 [00:05<00:00, 21.21it/s]\n",
      "100%|██████████| 40/40 [00:00<00:00, 42.18it/s]\n"
     ]
    },
    {
     "name": "stdout",
     "output_type": "stream",
     "text": [
      "Epoch  170/200 train_loss: 1.522565 acc: 0.882361\n"
     ]
    },
    {
     "name": "stderr",
     "output_type": "stream",
     "text": [
      "100%|██████████| 118/118 [00:05<00:00, 20.93it/s]\n",
      "100%|██████████| 40/40 [00:00<00:00, 42.66it/s]\n"
     ]
    },
    {
     "name": "stdout",
     "output_type": "stream",
     "text": [
      "Epoch  171/200 train_loss: 1.522489 acc: 0.882718\n"
     ]
    },
    {
     "name": "stderr",
     "output_type": "stream",
     "text": [
      "100%|██████████| 118/118 [00:05<00:00, 21.23it/s]\n",
      "100%|██████████| 40/40 [00:00<00:00, 43.45it/s]\n"
     ]
    },
    {
     "name": "stdout",
     "output_type": "stream",
     "text": [
      "Epoch  172/200 train_loss: 1.522071 acc: 0.883067\n"
     ]
    },
    {
     "name": "stderr",
     "output_type": "stream",
     "text": [
      "100%|██████████| 118/118 [00:05<00:00, 21.20it/s]\n",
      "100%|██████████| 40/40 [00:00<00:00, 43.27it/s]\n"
     ]
    },
    {
     "name": "stdout",
     "output_type": "stream",
     "text": [
      "Epoch  173/200 train_loss: 1.522258 acc: 0.883413\n"
     ]
    },
    {
     "name": "stderr",
     "output_type": "stream",
     "text": [
      "100%|██████████| 118/118 [00:05<00:00, 21.41it/s]\n",
      "100%|██████████| 40/40 [00:00<00:00, 43.10it/s]\n"
     ]
    },
    {
     "name": "stdout",
     "output_type": "stream",
     "text": [
      "Epoch  174/200 train_loss: 1.522110 acc: 0.883758\n"
     ]
    },
    {
     "name": "stderr",
     "output_type": "stream",
     "text": [
      "100%|██████████| 118/118 [00:05<00:00, 20.32it/s]\n",
      "100%|██████████| 40/40 [00:00<00:00, 42.66it/s]\n"
     ]
    },
    {
     "name": "stdout",
     "output_type": "stream",
     "text": [
      "Epoch  175/200 train_loss: 1.521894 acc: 0.884100\n"
     ]
    },
    {
     "name": "stderr",
     "output_type": "stream",
     "text": [
      "100%|██████████| 118/118 [00:05<00:00, 20.91it/s]\n",
      "100%|██████████| 40/40 [00:00<00:00, 42.08it/s]\n"
     ]
    },
    {
     "name": "stdout",
     "output_type": "stream",
     "text": [
      "Epoch  176/200 train_loss: 1.521874 acc: 0.884433\n"
     ]
    },
    {
     "name": "stderr",
     "output_type": "stream",
     "text": [
      "100%|██████████| 118/118 [00:05<00:00, 21.15it/s]\n",
      "100%|██████████| 40/40 [00:00<00:00, 42.74it/s]\n"
     ]
    },
    {
     "name": "stdout",
     "output_type": "stream",
     "text": [
      "Epoch  177/200 train_loss: 1.521370 acc: 0.884763\n"
     ]
    },
    {
     "name": "stderr",
     "output_type": "stream",
     "text": [
      "100%|██████████| 118/118 [00:05<00:00, 21.08it/s]\n",
      "100%|██████████| 40/40 [00:00<00:00, 41.14it/s]\n"
     ]
    },
    {
     "name": "stdout",
     "output_type": "stream",
     "text": [
      "Epoch  178/200 train_loss: 1.521586 acc: 0.885092\n"
     ]
    },
    {
     "name": "stderr",
     "output_type": "stream",
     "text": [
      "100%|██████████| 118/118 [00:05<00:00, 20.99it/s]\n",
      "100%|██████████| 40/40 [00:00<00:00, 42.93it/s]\n"
     ]
    },
    {
     "name": "stdout",
     "output_type": "stream",
     "text": [
      "Epoch  179/200 train_loss: 1.521071 acc: 0.885416\n"
     ]
    },
    {
     "name": "stderr",
     "output_type": "stream",
     "text": [
      "100%|██████████| 118/118 [00:06<00:00, 19.17it/s]\n",
      "100%|██████████| 40/40 [00:01<00:00, 32.38it/s]\n"
     ]
    },
    {
     "name": "stdout",
     "output_type": "stream",
     "text": [
      "Epoch  180/200 train_loss: 1.520958 acc: 0.885740\n"
     ]
    },
    {
     "name": "stderr",
     "output_type": "stream",
     "text": [
      "100%|██████████| 118/118 [00:05<00:00, 20.54it/s]\n",
      "100%|██████████| 40/40 [00:00<00:00, 40.74it/s]\n"
     ]
    },
    {
     "name": "stdout",
     "output_type": "stream",
     "text": [
      "Epoch  181/200 train_loss: 1.520922 acc: 0.886057\n"
     ]
    },
    {
     "name": "stderr",
     "output_type": "stream",
     "text": [
      "100%|██████████| 118/118 [00:05<00:00, 21.36it/s]\n",
      "100%|██████████| 40/40 [00:00<00:00, 42.51it/s]\n"
     ]
    },
    {
     "name": "stdout",
     "output_type": "stream",
     "text": [
      "Epoch  182/200 train_loss: 1.520789 acc: 0.886371\n"
     ]
    },
    {
     "name": "stderr",
     "output_type": "stream",
     "text": [
      "100%|██████████| 118/118 [00:05<00:00, 21.31it/s]\n",
      "100%|██████████| 40/40 [00:00<00:00, 43.82it/s]\n"
     ]
    },
    {
     "name": "stdout",
     "output_type": "stream",
     "text": [
      "Epoch  183/200 train_loss: 1.520576 acc: 0.886687\n"
     ]
    },
    {
     "name": "stderr",
     "output_type": "stream",
     "text": [
      "100%|██████████| 118/118 [00:05<00:00, 21.18it/s]\n",
      "100%|██████████| 40/40 [00:00<00:00, 42.90it/s]\n"
     ]
    },
    {
     "name": "stdout",
     "output_type": "stream",
     "text": [
      "Epoch  184/200 train_loss: 1.520202 acc: 0.886999\n"
     ]
    },
    {
     "name": "stderr",
     "output_type": "stream",
     "text": [
      "100%|██████████| 118/118 [00:05<00:00, 21.28it/s]\n",
      "100%|██████████| 40/40 [00:00<00:00, 43.84it/s]\n"
     ]
    },
    {
     "name": "stdout",
     "output_type": "stream",
     "text": [
      "Epoch  185/200 train_loss: 1.520206 acc: 0.887309\n"
     ]
    },
    {
     "name": "stderr",
     "output_type": "stream",
     "text": [
      "100%|██████████| 118/118 [00:05<00:00, 21.31it/s]\n",
      "100%|██████████| 40/40 [00:00<00:00, 42.59it/s]\n"
     ]
    },
    {
     "name": "stdout",
     "output_type": "stream",
     "text": [
      "Epoch  186/200 train_loss: 1.520197 acc: 0.887607\n"
     ]
    },
    {
     "name": "stderr",
     "output_type": "stream",
     "text": [
      "100%|██████████| 118/118 [00:05<00:00, 21.50it/s]\n",
      "100%|██████████| 40/40 [00:00<00:00, 42.83it/s]\n"
     ]
    },
    {
     "name": "stdout",
     "output_type": "stream",
     "text": [
      "Epoch  187/200 train_loss: 1.519896 acc: 0.887912\n"
     ]
    },
    {
     "name": "stderr",
     "output_type": "stream",
     "text": [
      "100%|██████████| 118/118 [00:05<00:00, 21.42it/s]\n",
      "100%|██████████| 40/40 [00:00<00:00, 41.94it/s]\n"
     ]
    },
    {
     "name": "stdout",
     "output_type": "stream",
     "text": [
      "Epoch  188/200 train_loss: 1.519876 acc: 0.888214\n"
     ]
    },
    {
     "name": "stderr",
     "output_type": "stream",
     "text": [
      "100%|██████████| 118/118 [00:05<00:00, 21.39it/s]\n",
      "100%|██████████| 40/40 [00:00<00:00, 43.59it/s]\n"
     ]
    },
    {
     "name": "stdout",
     "output_type": "stream",
     "text": [
      "Epoch  189/200 train_loss: 1.519741 acc: 0.888511\n"
     ]
    },
    {
     "name": "stderr",
     "output_type": "stream",
     "text": [
      "100%|██████████| 118/118 [00:05<00:00, 21.04it/s]\n",
      "100%|██████████| 40/40 [00:00<00:00, 43.73it/s]\n"
     ]
    },
    {
     "name": "stdout",
     "output_type": "stream",
     "text": [
      "Epoch  190/200 train_loss: 1.519540 acc: 0.888804\n"
     ]
    },
    {
     "name": "stderr",
     "output_type": "stream",
     "text": [
      "100%|██████████| 118/118 [00:05<00:00, 21.20it/s]\n",
      "100%|██████████| 40/40 [00:00<00:00, 43.19it/s]\n"
     ]
    },
    {
     "name": "stdout",
     "output_type": "stream",
     "text": [
      "Epoch  191/200 train_loss: 1.519590 acc: 0.889095\n"
     ]
    },
    {
     "name": "stderr",
     "output_type": "stream",
     "text": [
      "100%|██████████| 118/118 [00:05<00:00, 21.14it/s]\n",
      "100%|██████████| 40/40 [00:00<00:00, 42.69it/s]\n"
     ]
    },
    {
     "name": "stdout",
     "output_type": "stream",
     "text": [
      "Epoch  192/200 train_loss: 1.519135 acc: 0.889385\n"
     ]
    },
    {
     "name": "stderr",
     "output_type": "stream",
     "text": [
      "100%|██████████| 118/118 [00:05<00:00, 21.70it/s]\n",
      "100%|██████████| 40/40 [00:00<00:00, 44.23it/s]\n"
     ]
    },
    {
     "name": "stdout",
     "output_type": "stream",
     "text": [
      "Epoch  193/200 train_loss: 1.518960 acc: 0.889671\n"
     ]
    },
    {
     "name": "stderr",
     "output_type": "stream",
     "text": [
      "100%|██████████| 118/118 [00:05<00:00, 21.10it/s]\n",
      "100%|██████████| 40/40 [00:00<00:00, 43.24it/s]\n"
     ]
    },
    {
     "name": "stdout",
     "output_type": "stream",
     "text": [
      "Epoch  194/200 train_loss: 1.518917 acc: 0.889952\n"
     ]
    },
    {
     "name": "stderr",
     "output_type": "stream",
     "text": [
      "100%|██████████| 118/118 [00:05<00:00, 21.75it/s]\n",
      "100%|██████████| 40/40 [00:00<00:00, 42.84it/s]\n"
     ]
    },
    {
     "name": "stdout",
     "output_type": "stream",
     "text": [
      "Epoch  195/200 train_loss: 1.518794 acc: 0.890233\n"
     ]
    },
    {
     "name": "stderr",
     "output_type": "stream",
     "text": [
      "100%|██████████| 118/118 [00:05<00:00, 21.60it/s]\n",
      "100%|██████████| 40/40 [00:00<00:00, 44.07it/s]\n"
     ]
    },
    {
     "name": "stdout",
     "output_type": "stream",
     "text": [
      "Epoch  196/200 train_loss: 1.518504 acc: 0.890512\n"
     ]
    },
    {
     "name": "stderr",
     "output_type": "stream",
     "text": [
      "100%|██████████| 118/118 [00:05<00:00, 21.63it/s]\n",
      "100%|██████████| 40/40 [00:00<00:00, 44.70it/s]\n"
     ]
    },
    {
     "name": "stdout",
     "output_type": "stream",
     "text": [
      "Epoch  197/200 train_loss: 1.518367 acc: 0.890789\n"
     ]
    },
    {
     "name": "stderr",
     "output_type": "stream",
     "text": [
      "100%|██████████| 118/118 [00:05<00:00, 21.52it/s]\n",
      "100%|██████████| 40/40 [00:00<00:00, 43.26it/s]\n"
     ]
    },
    {
     "name": "stdout",
     "output_type": "stream",
     "text": [
      "Epoch  198/200 train_loss: 1.518402 acc: 0.891065\n"
     ]
    },
    {
     "name": "stderr",
     "output_type": "stream",
     "text": [
      "100%|██████████| 118/118 [00:05<00:00, 21.31it/s]\n",
      "100%|██████████| 40/40 [00:00<00:00, 44.61it/s]\n"
     ]
    },
    {
     "name": "stdout",
     "output_type": "stream",
     "text": [
      "Epoch  199/200 train_loss: 1.518125 acc: 0.891338\n"
     ]
    },
    {
     "name": "stderr",
     "output_type": "stream",
     "text": [
      "100%|██████████| 118/118 [00:05<00:00, 21.32it/s]\n",
      "100%|██████████| 40/40 [00:00<00:00, 44.53it/s]"
     ]
    },
    {
     "name": "stdout",
     "output_type": "stream",
     "text": [
      "Epoch  200/200 train_loss: 1.517981 acc: 0.891610\n"
     ]
    },
    {
     "name": "stderr",
     "output_type": "stream",
     "text": [
      "\n"
     ]
    }
   ],
   "source": [
    "epochs = 200\n",
    "metric = MulticlassAccuracy()\n",
    "from tqdm import tqdm\n",
    "\n",
    "for epoch in range(1,epochs+1):\n",
    "\n",
    "    loss_sum = 0.0\n",
    "\n",
    "    for (train_features,train_labels) in tqdm(train_dataloader) :\n",
    "\n",
    "        epoch_y = net(train_features.cuda().view((-1,784)))\n",
    "        loss = loss_fc(epoch_y,train_labels.cuda()) ## cross entroy loss에 잘못된 값을 넣고 잇었군요...\n",
    "        loss_sum += loss\n",
    "        \n",
    "        optimizer.zero_grad()\n",
    "        loss.backward()\n",
    "        optimizer.step()\n",
    "    \n",
    "    for (test_features,test_labels) in tqdm(test_dataloader) :\n",
    "        \n",
    "        epoch_test_y = net(test_features.cuda().view((-1,784)))\n",
    "        epoch_class_y = torch.argmax(epoch_test_y,dim=-1)\n",
    "\n",
    "        metric.update(epoch_class_y,test_labels.cuda())\n",
    "        \n",
    "    acc = metric.compute()\n",
    "\n",
    "    loss = loss_sum / len(train_dataloader)\n",
    "\n",
    "    print('Epoch {:4d}/{} train_loss: {:.6f} acc: {:.6f}'.format(\n",
    "        epoch, epochs, loss, acc\n",
    "    ))\n",
    "\n",
    "    if loss < 0.1 :\n",
    "        break"
   ]
  },
  {
   "cell_type": "code",
   "execution_count": 12,
   "metadata": {},
   "outputs": [
    {
     "data": {
      "text/plain": [
       "torch.Size([1, 784])"
      ]
     },
     "execution_count": 12,
     "metadata": {},
     "output_type": "execute_result"
    }
   ],
   "source": [
    "image, label = data_train[140]\n",
    "\n",
    "image.squeeze().shape\n",
    "\n",
    "image.view(-1,784).shape"
   ]
  },
  {
   "cell_type": "code",
   "execution_count": 13,
   "metadata": {},
   "outputs": [
    {
     "data": {
      "text/plain": [
       "tensor(7, device='cuda:0')"
      ]
     },
     "execution_count": 13,
     "metadata": {},
     "output_type": "execute_result"
    }
   ],
   "source": [
    "pre_y = net(image.view(-1,784).cuda())\n",
    "\n",
    "pre_y = pre_y.squeeze()\n",
    "\n",
    "pre_max = 0\n",
    "temp = -1\n",
    "\n",
    "output_result = torch.argmax(pre_y,dim=-1)\n",
    "\n",
    "output_result"
   ]
  },
  {
   "cell_type": "code",
   "execution_count": 14,
   "metadata": {},
   "outputs": [
    {
     "data": {
      "image/png": "[encoded data removed]",
      "text/plain": [
       "<Figure size 640x480 with 1 Axes>"
      ]
     },
     "metadata": {},
     "output_type": "display_data"
    }
   ],
   "source": [
    "from matplotlib import pyplot as plt\n",
    "\n",
    "plt.imshow(image.reshape(28,28).numpy(),cmap='gray')\n",
    "plt.show()"
   ]
  }
 ],
 "metadata": {
  "kernelspec": {
   "display_name": "venv",
   "language": "python",
   "name": "python3"
  },
  "language_info": {
   "codemirror_mode": {
    "name": "ipython",
    "version": 3
   },
   "file_extension": ".py",
   "mimetype": "text/x-python",
   "name": "python",
   "nbconvert_exporter": "python",
   "pygments_lexer": "ipython3",
   "version": "3.12.3"
  }
 },
 "nbformat": 4,
 "nbformat_minor": 2
}
